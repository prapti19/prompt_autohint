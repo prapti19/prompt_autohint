{
 "cells": [
  {
   "cell_type": "code",
   "execution_count": 1,
   "metadata": {},
   "outputs": [],
   "source": [
    "!export HF_DATASETS_CACHE=\"/scratch/pt2295/cache/\""
   ]
  },
  {
   "cell_type": "code",
   "execution_count": 2,
   "metadata": {},
   "outputs": [],
   "source": [
    "!export CUDA_VISIBLE_DEVICES=0,1,2,3"
   ]
  },
  {
   "cell_type": "code",
   "execution_count": 3,
   "metadata": {},
   "outputs": [],
   "source": [
    "import os\n",
    "os.environ['TRANSFORMERS_CACHE'] = '/scratch/pt2295/cache/'"
   ]
  },
  {
   "cell_type": "code",
   "execution_count": 4,
   "metadata": {},
   "outputs": [],
   "source": [
    "import json\n",
    "import random\n",
    "import re\n",
    "\n",
    "\n",
    "\n",
    "file_path = \"/scratch/pt2295/LlvmProject/automatic_prompt_engineer/data/bigbench-ii/epistemic_reasoning/task.json\"\n",
    "\n",
    "with open(file_path, 'r') as json_file:\n",
    "    \n",
    "    data_orig = json.load(json_file)"
   ]
  },
  {
   "cell_type": "code",
   "execution_count": 5,
   "metadata": {},
   "outputs": [],
   "source": [
    "data=data_orig['examples']"
   ]
  },
  {
   "cell_type": "code",
   "execution_count": 6,
   "metadata": {},
   "outputs": [
    {
     "data": {
      "text/plain": [
       "2000"
      ]
     },
     "execution_count": 6,
     "metadata": {},
     "output_type": "execute_result"
    }
   ],
   "source": [
    "len(data_orig['examples'])"
   ]
  },
  {
   "cell_type": "code",
   "execution_count": 7,
   "metadata": {},
   "outputs": [],
   "source": [
    "random.shuffle(data)\n",
    "\n",
    "# Define the proportions for train, test, and validation sets\n",
    "total_samples = len(data)\n",
    "train_ratio = 0.7\n",
    "test_ratio = 0.15\n",
    "validation_ratio = 0.15\n",
    "\n",
    "# Calculate the sizes of each set\n",
    "train_size = int(total_samples * train_ratio)\n",
    "test_size = int(total_samples * test_ratio)\n",
    "validation_size = int(total_samples * validation_ratio)\n",
    "\n",
    "# Split the data into sets\n",
    "train_data = data[:train_size]\n",
    "test_data = data[train_size:train_size + test_size]\n",
    "validation_data = data[train_size + test_size:]"
   ]
  },
  {
   "cell_type": "code",
   "execution_count": 10,
   "metadata": {},
   "outputs": [
    {
     "data": {
      "text/plain": [
       "100"
      ]
     },
     "execution_count": 10,
     "metadata": {},
     "output_type": "execute_result"
    }
   ],
   "source": [
    "len(train_data)"
   ]
  },
  {
   "cell_type": "code",
   "execution_count": 9,
   "metadata": {},
   "outputs": [],
   "source": [
    "train_data=train_data[0:100]"
   ]
  },
  {
   "cell_type": "markdown",
   "metadata": {},
   "source": [
    "# Algo"
   ]
  },
  {
   "cell_type": "code",
   "execution_count": 11,
   "metadata": {},
   "outputs": [],
   "source": [
    "task_description=data_orig['description']"
   ]
  },
  {
   "cell_type": "code",
   "execution_count": 12,
   "metadata": {},
   "outputs": [],
   "source": [
    "task_type='entailment'"
   ]
  },
  {
   "cell_type": "code",
   "execution_count": 13,
   "metadata": {},
   "outputs": [],
   "source": [
    "task_prefix=data_orig['task_prefix']\n",
    "if task_type=='hyperbaton':\n",
    "    task_prefix=task_prefix.strip()\n",
    "    task_prefix+=\" Choose only from the following options: 'a' or 'b'.\\n\""
   ]
  },
  {
   "cell_type": "code",
   "execution_count": 14,
   "metadata": {},
   "outputs": [],
   "source": [
    "def preprocess(text):\n",
    "    return"
   ]
  },
  {
   "cell_type": "code",
   "execution_count": 15,
   "metadata": {},
   "outputs": [],
   "source": [
    "def extract_answer(length,line,task_type='entailment'):\n",
    "    line=line[length:]\n",
    "    pattern = r'<Ans>(.*?)</Ans>|Ans:\\s*([\\w-]+)'\n",
    "    matches = re.findall(pattern, line)\n",
    "    if len(matches)==0:#right now if not match return\n",
    "        return -1\n",
    "    if task_type=='entailment':\n",
    "        if matches =='entailment' or matches=='Entailment' or \"non-entail\" not in matches:\n",
    "            return 1\n",
    "    elif task_type=='hyperbaton':\n",
    "        if matches[0][0]=='a' or matches[0][0]=='A':\n",
    "            return 1\n",
    "    return 0\n",
    "  "
   ]
  },
  {
   "cell_type": "code",
   "execution_count": 16,
   "metadata": {},
   "outputs": [
    {
     "name": "stderr",
     "output_type": "stream",
     "text": [
      "/ext3/miniconda3/lib/python3.11/site-packages/tqdm/auto.py:21: TqdmWarning: IProgress not found. Please update jupyter and ipywidgets. See https://ipywidgets.readthedocs.io/en/stable/user_install.html\n",
      "  from .autonotebook import tqdm as notebook_tqdm\n",
      "Loading checkpoint shards: 100%|██████████| 3/3 [00:37<00:00, 12.61s/it]\n"
     ]
    }
   ],
   "source": [
    "from transformers import AutoTokenizer,AutoModelForCausalLM\n",
    "import transformers\n",
    "import torch\n",
    "\n",
    "model_name = \"meta-llama/Llama-2-13b-chat-hf\"\n",
    "custom_cache_dir = \"/scratch/pt2295/cache/\"\n",
    "tokenizer = AutoTokenizer.from_pretrained(model_name,cache_dir=custom_cache_dir,use_fast=True)\n",
    "\n",
    "# pipeline = transformers.pipeline(\n",
    "#     \"text-generation\",\n",
    "#     model=model_name,\n",
    "#     torch_dtype=torch.float16,\n",
    "#     device_map=\"auto\",\n",
    "#     tokenizer=tokenizer\n",
    "    \n",
    "# )\n",
    "model = AutoModelForCausalLM.from_pretrained(model_name, device_map=\"auto\", load_in_4bit=True,cache_dir=custom_cache_dir)\n",
    "\n",
    "\n"
   ]
  },
  {
   "cell_type": "code",
   "execution_count": 53,
   "metadata": {},
   "outputs": [],
   "source": [
    "def get_answer_llm(user_prompt):\n",
    "# user_prompt=\"Determine whether one sentence entails the next. Given input: Premise: William suspects that Isabella learns that two men are in blue life jackets and sitting on innertubes with 'Crusher' written on them in the middle of a body of water. Hypothesis: Isabella learns that two men are in blue life jackets and sitting on innertubes with 'Crusher' written on them in the middle of a body of water.Identify the relation between the following premises and hypotheses, choosing from the options 'entailment' or 'non-entailment'. Put your answer within tag <Ans> and </Ans>\"\n",
    "    sys_prompt=\"You are a helpful, respectful and honest assistant. Always answer as helpfully as possible, while being safe. Your answers should not include any harmful, unethical, racist, sexist, toxic, dangerous, or illegal content. Please ensure that your responses are socially unbiased and positive in nature.If a question does not make any sense, or is not factually coherent, explain why instead of answering something not correct. If you don't know the answer to a question, please don't share false information.\"\n",
    "    prompt=f\"<s>[INST] {user_prompt} [/INST]\"\n",
    "    \n",
    "    \n",
    "   \n",
    "    model_inputs = tokenizer(prompt, return_tensors=\"pt\").to(\"cuda\")\n",
    "\n",
    "    output = model.generate(**model_inputs)\n",
    "\n",
    "    return tokenizer.decode(output[0], skip_special_tokens=True)\n"
   ]
  },
  {
   "cell_type": "code",
   "execution_count": 17,
   "metadata": {},
   "outputs": [],
   "source": [
    "# model = AutoModelForCausalLM.from_pretrained(model_name, device_map=\"auto\", load_in_4bit=True)\n",
    "# tokenizer = AutoTokenizer.from_pretrained(model_name, use_fast=True, use_auth_token=access_token)\n",
    "# model_inputs = tokenizer(prompt, return_tensors=\"pt\").to(\"cuda:0\")\n",
    "\n",
    "# output = model.generate(**model_inputs)\n",
    "\n",
    "# print(tokenizer.decode(output[0], skip_special_tokens=True))"
   ]
  },
  {
   "cell_type": "code",
   "execution_count": 18,
   "metadata": {},
   "outputs": [],
   "source": [
    "# for seq in sequences:\n",
    "#     print(f\"Result: {seq['generated_text']}\")\n",
    "#     print()\n",
    "    "
   ]
  },
  {
   "cell_type": "code",
   "execution_count": 18,
   "metadata": {},
   "outputs": [],
   "source": [
    "def run_inference_step1(task_type='entailment'):\n",
    "    wrong_ans_indices=[]\n",
    "    not_got=[]\n",
    "    for i in range(len(train_data)):\n",
    "        \n",
    "        prompt_t= task_description+'\\n'+'Given input: '+train_data[i]['input']+'\\n'+task_prefix+'Put your one-word answer choosing from the previously stated two options within tag <Ans> and </Ans>. The one word answer should be necassarily between the tags.'\n",
    "        op=get_answer_llm(prompt_t)\n",
    "        output_str=op#\"\".join([i['generated_text'] for i in op])\n",
    "\n",
    "        ans=extract_answer(len(prompt_t),output_str,task_type)\n",
    "        if ans==-1:\n",
    "            not_got.append(i)\n",
    "            continue\n",
    "        ground_truth=1\n",
    "      \n",
    "        if task_type=='entailment':\n",
    "            if train_data[i]['target_scores']['non-entailment']==1:\n",
    "                ground_truth=0\n",
    "        elif task_type=='hyperbaton':\n",
    "            if train_data[i]['target_scores']['b']==1:\n",
    "                ground_truth=0\n",
    "        if (ans!=ground_truth):\n",
    "            wrong_ans_indices.append(i)\n",
    "        \n",
    "    \n",
    "        \n",
    "    \n",
    "    return wrong_ans_indices"
   ]
  },
  {
   "cell_type": "code",
   "execution_count": 19,
   "metadata": {},
   "outputs": [
    {
     "name": "stderr",
     "output_type": "stream",
     "text": [
      "/ext3/miniconda3/lib/python3.11/site-packages/bitsandbytes/nn/modules.py:224: UserWarning: Input type into Linear4bit is torch.float16, but bnb_4bit_compute_type=torch.float32 (default). This will lead to slow inference or training speed.\n",
      "  warnings.warn(f'Input type into Linear4bit is torch.float16, but bnb_4bit_compute_type=torch.float32 (default). This will lead to slow inference or training speed.')\n"
     ]
    }
   ],
   "source": [
    "wrong_answers=run_inference_step1(task_type)"
   ]
  },
  {
   "cell_type": "code",
   "execution_count": null,
   "metadata": {},
   "outputs": [],
   "source": [
    "# answer not only within tags, difficult to extract answer -> solved by improving prompt\n",
    "#70b is good but v slow\n",
    "#maybe use pipeline with datasets or use more gpus"
   ]
  },
  {
   "cell_type": "code",
   "execution_count": 20,
   "metadata": {},
   "outputs": [],
   "source": [
    "def extract_hint(length,line):\n",
    "    line=line[length:]\n",
    "    pattern = r'<hint>(.*?)</hint>'\n",
    "    matches = re.findall(pattern, line)\n",
    "    if len(matches)==0:\n",
    "        return \"\"\n",
    "    return matches[0]"
   ]
  },
  {
   "cell_type": "code",
   "execution_count": 62,
   "metadata": {},
   "outputs": [],
   "source": [
    "# (wrong_answers)"
   ]
  },
  {
   "cell_type": "code",
   "execution_count": 34,
   "metadata": {},
   "outputs": [],
   "source": [
    "# len(not_got_append)"
   ]
  },
  {
   "cell_type": "code",
   "execution_count": 22,
   "metadata": {},
   "outputs": [],
   "source": [
    "def get_hints_residual_step2():\n",
    "    hints_wrong_ans={}\n",
    "    for idx in wrong_answers:\n",
    "        if task_type=='entailment':\n",
    "            if train_data[idx]['target_scores']['entailment']==1:\n",
    "                ans='entailment'\n",
    "            else:\n",
    "                ans='non-entailment'\n",
    "        prompt_h='Given following task:'+task_description+'\\n'+'Given input: '+train_data[idx]['input']+'\\n'+'And its expected output: '+ans+'\\n'+'List the reason or hint why its with this expected output within tag <hint> and </hint>. The hint or explaination should be necassarily between the tags.'\n",
    "       \n",
    "        op=get_answer_llm(prompt_h)\n",
    "        hint=extract_hint(len(prompt_h),op)\n",
    "       \n",
    "        if hint!='':\n",
    "#             hints_wrong_ans.append((idx,hint))\n",
    "            hints_wrong_ans[idx]=hint\n",
    "        \n",
    "    return hints_wrong_ans\n",
    "    "
   ]
  },
  {
   "cell_type": "code",
   "execution_count": 23,
   "metadata": {},
   "outputs": [],
   "source": [
    "hints_wrong=get_hints_residual_step2()"
   ]
  },
  {
   "cell_type": "code",
   "execution_count": 24,
   "metadata": {},
   "outputs": [
    {
     "data": {
      "text/plain": [
       "{0: \"Note that the premise only provides information about John's perception of a specific lady, and does not provide any information about Charles's perception or what he sees.\",\n",
       " 1: 'Note that the word \"suspects\" implies doubt or uncertainty, which means that Evelyn\\'s understanding of Richard\\'s knowledge is not confirmed or proven. In contrast, the hypothesis states that Richard does understand something, which is a more definite and certain claim.',\n",
       " 2: \"The premise and hypothesis are both statements about Thomas's understanding, but they do not directly state the same thing. The premise only states that Robert suspects something about Thomas's understanding, while the hypothesis states something about what Thomas actually understands. Therefore, they do not entail each other.\",\n",
       " 4: ' The answer is no, there is no new information or perspective added in the hypothesis that would make it entail the premise. The two sentences are simply restating the same information, and therefore do not entail each other. ',\n",
       " 5: 'The hypothesis only states that Sophia assumes the woman is laying on the ground, but it does not specify that the woman is looking at a book. The premise, on the other hand, states that Taylor thinks Sophia assumes the woman is looking at a book. Since the hypothesis does not provide enough information to confirm that the woman is looking at a book, the premise and hypothesis do not entail each other.',\n",
       " 6: 'The premise and hypothesis are the same, so there is no entailment. The premise only restates the hypothesis in a different way. To determine entailment, we need to compare the premise to the hypothesis and look for any new information or evidence that would lead to a different conclusion.',\n",
       " 8: 'The premise states that Robert believes something, while the hypothesis only states that Taylor suspects something. Belief and suspicion are not the same thing, so the hypothesis does not entail the premise.',\n",
       " 9: 'The premise and hypothesis are the same sentence, so there is no entailment because the hypothesis is not a logical consequence of the premise.',\n",
       " 11: 'Note that the word \"Asian\" in the premise is not relevant to the entailment relationship between the premise and the hypothesis. The fact that the men are Asian does not affect the logical connection between the premise and the hypothesis.',\n",
       " 13: 'The premise only states that Evelyn suspects that Joseph understands the situation, but it does not confirm that he actually does understand it. In other words, the premise does not provide enough information to confirm that Joseph has the same understanding as Evelyn.',\n",
       " 15: \"The hypothesis states that Isabella thinks that Emma knows something, but the premise only states that Emma knows what Isabella thinks. The two statements are not equivalent, and there is no guarantee that Isabella's thoughts are accurate or that Emma has the same knowledge as Isabella.\",\n",
       " 16: 'Note that the hypothesis is essentially a restatement of the premise, and does not provide any new information that would justify the conclusion that Joseph knows something.',\n",
       " 17: 'The premise and hypothesis are both about the same belief of Joseph, so there is no new information to entail a conclusion.',\n",
       " 18: 'The premise and hypothesis are the same sentence, so there is no new information or inference that can be made from the hypothesis that is not already present in the premise.',\n",
       " 20: 'Note that the word \"assumes\" in the premise and hypothesis is a key indicator of non-entailment. Assumptions are not necessarily based on evidence or facts, and can be influenced by biases or hearsay. In this case, John\\'s assumptions about William\\'s beliefs and the young man\\'s actions are not necessarily linked, and therefore the premise and hypothesis do not entail each other.',\n",
       " 21: 'Note that the word \"quite\" is a subtle difference that changes the tone and atmosphere of the sentence. Pay attention to such details when evaluating entailment or non-entailment.',\n",
       " 22: 'Note that entailment is a logical relationship between two statements, and it requires that the conclusion follows logically from the premises. In this case, the premise and hypothesis are the same statement, so there is no logical relationship to be found.',\n",
       " 23: 'Note that the word \"knows\" in the premise is a verb that indicates a state of mind or belief, while the word \"thinks\" in the hypothesis is also a verb that indicates a state of mind or belief. Both verbs are in the present tense, which suggests that the statements are describing current states of mind rather than past or future events.',\n",
       " 28: 'The hypothesis only states that John thinks that Evelyn understands something, but it does not provide any information about what Evelyn understands. In order for the hypothesis to entail the premise, it would need to specify that John thinks Evelyn understands that cars and people are outside of \"Hotel Carmel\" as well.',\n",
       " 30: \"The premise states that James assumes Richard thinks that a man grabs his crotch, but the hypothesis only states that James assumes that a man grabs his crotch. There is no assumption about Richard's thoughts or beliefs in the hypothesis, so it does not entail the premise.\",\n",
       " 31: \"The premise only states that William suspects what Richard believes, but it does not confirm that Richard actually believes it. In other words, the premise does not provide sufficient information to conclude that Richard's belief is true.\",\n",
       " 32: \"The premise specifies that the child is wearing a helmet, while the hypothesis does not include any information about the child's attire. Therefore, the hypothesis does not entail the premise.\",\n",
       " 33: 'The witness hypothesis only states that a person is skating, but it does not specify that the person is skating in the chain link enclosed skate park. Therefore, the premise that a skater goes over one of the obstacles in the skate park is not entailed by the witness hypothesis.',\n",
       " 34: 'The premise states that Thomas assumes that Emma learns something, but the hypothesis only states that Emma learns something without specifying what she learns. Therefore, we cannot infer that Emma learns what Thomas assumes she learns.',\n",
       " 35: \"Note that the premise only states that Emma assumes Joseph believes something, but it does not provide any evidence or proof that Joseph actually holds that belief. In other words, the premise is a statement about Emma's beliefs, not Joseph's beliefs.\",\n",
       " 36: 'The hypothesis simply restates the premise, providing no new information or insight. Therefore, the hypothesis does not entail the premise.',\n",
       " 37: 'Note that the hypothesis only mentions \"two boys\" and \"a bag\", but it does not specify the context or the clothes they are wearing, which is important for the premise.',\n",
       " 38: 'The premise states that David suspects that Sophia suspects something, but the hypothesis does not mention David or his suspicions. Therefore, the hypothesis does not entail the premise.',\n",
       " 40: 'Note that the word \"assumes\" in the premise indicates that Isabella\\'s belief is not necessarily based on fact or evidence, but rather on her own perspective or interpretation. This highlights the difference between assumption and recognition, which is the focus of the hypothetical situation.',\n",
       " 44: 'The premise mentions a specific man jumping on stage, while the hypothesis only mentions a boy watching someone jumping on stage. The premise implies that the man is the one jumping, while the hypothesis does not specify who is doing the jumping. Therefore, the two sentences do not entail each other.',\n",
       " 45: 'Note that entailment requires a logical connection between the premise and hypothesis, and the lack of information about the identity of the woman and the man in the premise prevents us from establishing such a connection.',\n",
       " 46: \"The premise states that Charlotte believes something about Amelia's understanding, but the hypothesis only states that Charlotte believes something about Amelia's beliefs. The two statements are not equivalent, and the hypothesis does not entail the premise.\",\n",
       " 48: 'The premise states that Richard believes something, but the hypothesis does not take into account what Richard believes. Instead, it simply states that Richard believes James sees something. This means that the hypothesis does not logically follow from the premise, and therefore, the two sentences are not entailed.',\n",
       " 50: 'The premise states that Emma thinks that James understands something, but the hypothesis only states that James understands the same thing that Emma thinks he understands. In other words, the hypothesis does not add any new information to what Emma already thinks James understands. Therefore, the hypothesis does not entail the premise.',\n",
       " 51: 'The hypothesis is a tautology, meaning it is always true based on the premise. When a statement is true by definition or tautological, it does not provide any new information or entailment.',\n",
       " 52: 'The premise states that Evelyn knows what David assumes, but the hypothesis assumes that Evelyn knows the same information as David. Since the premise and hypothesis are talking about different levels of knowledge, they do not entail each other.',\n",
       " 53: \"The hypothesis is too vague and does not provide any additional information that would support James' suspicion, so it does not entail the premise.\",\n",
       " 54: 'The hypothesis merely paraphrases the premise, without adding any new information. This means that the hypothesis does not provide any additional evidence or reasoning that would entail the premise.',\n",
       " 57: \"Note that the premise and hypothesis are both descriptions of the same situation, but the premise is a statement about James's belief, while the hypothesis is a statement about Michael's belief. This is why the two statements are not logically related.\",\n",
       " 58: 'The hypothesis only restates the information given in the premise, without providing any new information that would allow us to make the inference.',\n",
       " 59: 'The premise states that Ava believes James knows something, but the hypothesis only states that James knows the man wearing red sunglasses is carrying two cameras. There is no guarantee that James knows the man wearing red sunglasses is the same person that Ava believes he knows.',\n",
       " 61: 'Note that entailment requires that the hypothetical sentence be a logical consequence of the premise. In this case, the hypothetical sentence does not logically follow from the premise, so the two sentences are not entailingly related.',\n",
       " 63: \"The premise mentions specific details about the man's clothing and helmet, which are not present in the hypothesis. The hypothesis only mentions that a man is biking down a path, without specifying any details about his attire or protective gear. Therefore, the premise does not entail the hypothesis.\",\n",
       " 64: \"The premise mentions a specific detail about the man's attire (an orange turban), which the hypothesis does not include.\",\n",
       " 65: \"Think about the difference between what Ava assumes Robert believes and what Robert actually believes. Ava's assumption may not align with Robert's actual beliefs.\",\n",
       " 66: 'The premise states that Abigail suspects that David sees two boats, but the hypothesis only states that David sees two boats. The premise adds an element of suspicion, which is not present in the hypothesis. Therefore, the hypothesis does not entail the premise.',\n",
       " 67: 'The premise states that William believes that Charles assumes something, but the hypothesis does not specify what Charles assumes. The hypothesis only states that Charles assumes two females kneeling and a man sting in a chair looking toward a man in robes on an altar. Therefore, the premise does not entail the hypothesis.',\n",
       " 68: 'The premise and hypothesis are not entailed because the premise does not provide enough information to confirm or deny the hypothesis. The premise only describes a scene in a gym, but it does not mention anything about Taylor or her suspicions. Therefore, we cannot conclude that Taylor suspects they are in a gym based solely on the premise.',\n",
       " 70: 'Notice that the hypothesis only states what Charlotte remembers, and does not directly state what Emma thinks. This means that the hypothesis does not directly imply the premise, and therefore does not entail it.',\n",
       " 71: \"The premise states that the child is drawing a picture of a girl, but it doesn't specify that the child is drawing the picture for Charlotte. Therefore, we cannot conclude that Charlotte knows that the child is drawing a picture of a girl.\",\n",
       " 73: ' and ',\n",
       " 74: 'The premise states that Abigail believes the man is presenting in front of a television, while the hypothesis only states that Taylor assumes the man is presenting. There is no guarantee that the man is actually presenting, only that Taylor assumes he is.',\n",
       " 75: 'The premise and hypothesis are the same sentence.',\n",
       " 78: 'The premise states that John thinks that Thomas knows something, while the hypothesis states that Thomas actually does know it. There is no guarantee that Thomas actually does know what John thinks he knows.',\n",
       " 80: \"The hypothesis states that Isabella knows that the cyclists are racing ahead of a red BMW, but it does not specify that she knows about the specific details of the leader's helmet and cycling pants.\",\n",
       " 81: 'The hypothesis does not logically follow from the premise because it assumes that Abigail learns the same thing that Ava assumes, but the premise only states that Abigail learns what Ava assumes.',\n",
       " 82: 'The premise states that Richard believes that William believes something, but the hypothesis does not mention William at all. Therefore, the hypothesis does not entail the premise.',\n",
       " 83: \"Note that the premise only provides information about Robert's observation, and the hypothesis is about Joseph's observation. There is no direct connection between the two, so the hypotheses does not entail the premise.\",\n",
       " 84: \"The premise and hypothesis are like two separate puzzle pieces that don't fit together. The premise only provides information about Evelyn's recognition of Charlotte's suspicion, but the hypothesis jumps to a conclusion about what Charlotte suspects without any direct evidence or connection to the premise.\",\n",
       " 85: \"The premise mentions a specific man, William's son, being thrown into the air by William. In contrast, the hypothesis only mentions a stranger playing with a boy on the beach, without specifying who the boy is or how they are related to Evelyn.\",\n",
       " 86: 'The two sentences describe different activities. The first sentence describes a man fitting his head and arm into a toilet seat ring, which is a specific and unusual activity. The second sentence describes a contortionist fitting their head and arms through a toilet seat, which is also a specific and unusual activity. There is no overlap or similarity between the two activities, so the second sentence does not entail the first sentence.',\n",
       " 88: 'Note that the word \"suspects\" in the premise implies a certain degree of doubt or uncertainty, which is not present in the hypothesis. This lack of certainty in the premise makes it difficult to infer a direct connection between the two sentences.',\n",
       " 89: 'Note that entailment is a logical relationship between two statements, where one statement follows logically from the other. In this case, there is no such logical connection between the premise and hypothesis.',\n",
       " 90: 'The premise states that Michael learns that John suspects something, but the hypothesis states that John suspects that Michael learns something. These are two different things, and the hypothesis does not entail the premise.',\n",
       " 91: \"The premise states that Taylor believes something, while the hypothesis only states that Ava thinks something. The two statements are not logically connected, and there is no guarantee that Ava's thoughts reflect Taylor's beliefs.\",\n",
       " 93: 'The premise and hypothesis are the same sentence.',\n",
       " 94: 'The hypothesis only mentions a man in jeans and a brown shirt jumping high in the air, but it does not specify that the man is in a living room with a fireplace and wooden floor. The premise adds additional details about the setting, which are not present in the hypothesis.',\n",
       " 95: \"The premise states that James thinks that Thomas believes something, but the hypothesis does not confirm or deny what Thomas believes. In other words, the hypothesis does not provide any information about Thomas's beliefs, so it does not entail the premise.\",\n",
       " 97: \"The premise states that Amelia assumes something about the man, while the hypothesis only states what Isabella suspects. The two statements are not equivalent, as the premise implies a certain level of certainty on Amelia's part, while the hypothesis only expresses Isabella's suspicion.\"}"
      ]
     },
     "execution_count": 24,
     "metadata": {},
     "output_type": "execute_result"
    }
   ],
   "source": [
    "hints_wrong"
   ]
  },
  {
   "cell_type": "code",
   "execution_count": 43,
   "metadata": {},
   "outputs": [
    {
     "data": {
      "text/plain": [
       "69"
      ]
     },
     "execution_count": 43,
     "metadata": {},
     "output_type": "execute_result"
    }
   ],
   "source": [
    "len(hints_wrong)"
   ]
  },
  {
   "cell_type": "code",
   "execution_count": 38,
   "metadata": {},
   "outputs": [],
   "source": [
    "import random\n"
   ]
  },
  {
   "cell_type": "code",
   "execution_count": 39,
   "metadata": {},
   "outputs": [],
   "source": [
    "def random_sampling(wrong_answers,k=20):\n",
    "    selected=random.sample(wrong_answers, k)\n",
    "    return selected\n",
    "    "
   ]
  },
  {
   "cell_type": "code",
   "execution_count": 60,
   "metadata": {},
   "outputs": [],
   "source": [
    "def get_summarise_step4(wrong_answers, hints_wrong):\n",
    "    selected=random_sampling(list(hints_wrong.keys()))#HERE I HAVED USED HINTS WRONG INSTEAD OF WRONG_ANS \n",
    "    prompt_s=\"This is a task to \"+task_description+\". We have some expected input and output pairs and have asked labeler to give reason or hint for each expected output. Given following data each contains input, output and reason for the expected output, summarize a general reason for all these cases:\"+'\\n'\n",
    "    temp_str=''\n",
    "    ctr=1\n",
    "    for idx in selected:\n",
    "        temp=''\n",
    "        if task_type=='entailment':\n",
    "            if train_data[idx]['target_scores']['entailment']==1:\n",
    "                ans='entailment'\n",
    "            else:\n",
    "                ans='non-entailment'\n",
    "\n",
    "        temp+='Given input: '+train_data[idx]['input']+'\\n'+'And its expected output: '+ans+'. And the reason for the expected output: '+hints_wrong[idx]+'\\n'\n",
    "        temp_str+=temp+'\\n'\n",
    "        \n",
    "    prompt_s+=temp_str+'\\n'+\"Summarised reason output:\"\n",
    "    print(prompt_s)\n",
    "    l=len(prompt_s)\n",
    "    op=get_answer_llm(prompt_s)[l+8+7:]#or extract after [/INSTR]\n",
    "    return op.lstrip()\n",
    "        \n",
    "        \n",
    "        \n",
    "    "
   ]
  },
  {
   "cell_type": "code",
   "execution_count": 63,
   "metadata": {},
   "outputs": [
    {
     "name": "stdout",
     "output_type": "stream",
     "text": [
      "This is a task to Determine whether one sentence entails the next. We have some expected input and output pairs and have asked labeler to give reason or hint for each expected output. Given following data each contains input, output and reason for the expected output, summarize a general reason for all these cases:\n",
      "Given input: Premise: James assumes that Richard thinks that a man grabs his crotch during a political demonstration. Hypothesis: James assumes that a man grabs his crotch during a political demonstration.\n",
      "And its expected output: non-entailment. And the reason for the expected output: The premise states that James assumes Richard thinks that a man grabs his crotch, but the hypothesis only states that James assumes that a man grabs his crotch. There is no assumption about Richard's thoughts or beliefs in the hypothesis, so it does not entail the premise.\n",
      "\n",
      "Given input: Premise: Richard assumes that William believes that an elderly man is smiling while sitting in front of a row of soda cans. Hypothesis: Richard assumes that an elderly man is smiling while sitting in front of a row of soda cans.\n",
      "And its expected output: non-entailment. And the reason for the expected output: The premise states that Richard believes that William believes something, but the hypothesis does not mention William at all. Therefore, the hypothesis does not entail the premise.\n",
      "\n",
      "Given input: Premise: Charlotte believes that Joseph knows that a man holding some sort of vegetables while his wife in a red sweater stares to the side, and his daughter in a red sweater looks at the camera. Hypothesis: Joseph knows that a man holding some sort of vegetables while his wife in a red sweater stares to the side, and his daughter in a red sweater looks at the camera.\n",
      "And its expected output: non-entailment. And the reason for the expected output: Note that the hypothesis is essentially a restatement of the premise, and does not provide any new information that would justify the conclusion that Joseph knows something.\n",
      "\n",
      "Given input: Premise: Ava thinks that Taylor believes that a man wearing a white shirt and black pants is falling down onto a bed in front of a window facing the ocean. Hypothesis: Ava thinks that a man wearing a white shirt and black pants is falling down onto a bed in front of a window facing the ocean.\n",
      "And its expected output: non-entailment. And the reason for the expected output: The premise states that Taylor believes something, while the hypothesis only states that Ava thinks something. The two statements are not logically connected, and there is no guarantee that Ava's thoughts reflect Taylor's beliefs.\n",
      "\n",
      "Given input: Premise: Charlotte remembers that Emma thinks that a music concerto is happening on stage, with the lights on spot, while the audience listens in the dark. Hypothesis: Emma thinks that Charlotte remembers that a music concerto is happening on stage, with the lights on spot, while the audience listens in the dark.\n",
      "And its expected output: non-entailment. And the reason for the expected output: Notice that the hypothesis only states what Charlotte remembers, and does not directly state what Emma thinks. This means that the hypothesis does not directly imply the premise, and therefore does not entail it.\n",
      "\n",
      "Given input: Premise: Robert suspects that Thomas understands that a male baseball player for the baseball team The Indians prepares to catch a ball. Hypothesis: Thomas understands that a male baseball player for the baseball team The Indians prepares to catch a ball.\n",
      "And its expected output: non-entailment. And the reason for the expected output: The premise and hypothesis are both statements about Thomas's understanding, but they do not directly state the same thing. The premise only states that Robert suspects something about Thomas's understanding, while the hypothesis states something about what Thomas actually understands. Therefore, they do not entail each other.\n",
      "\n",
      "Given input: Premise: Sophia suspects that a man in an orange turban is standing in front of a basket containing a pack of marlboro reds and other small objects. Hypothesis: David suspects that a man in a turban stands in front of a basket.\n",
      "And its expected output: non-entailment. And the reason for the expected output: The premise mentions a specific detail about the man's attire (an orange turban), which the hypothesis does not include.\n",
      "\n",
      "Given input: Premise: Charles thinks that Isabella suspects that the basketball player in the blue uniform is guarding the player in the orange uniform, who has the ball. Hypothesis: Charles thinks that the basketball player in the blue uniform is guarding the player in the orange uniform, who has the ball.\n",
      "And its expected output: non-entailment. And the reason for the expected output: Note that entailment is a logical relationship between two statements, and it requires that the conclusion follows logically from the premises. In this case, the premise and hypothesis are the same statement, so there is no logical relationship to be found.\n",
      "\n",
      "Given input: Premise: Taylor thinks that Sophia assumes that a woman wearing a tank top and black pants is laying on the ground while looking at a book. Hypothesis: Sophia assumes that a woman wearing a tank top and black pants is laying on the ground while looking at a book.\n",
      "And its expected output: non-entailment. And the reason for the expected output: The hypothesis only states that Sophia assumes the woman is laying on the ground, but it does not specify that the woman is looking at a book. The premise, on the other hand, states that Taylor thinks Sophia assumes the woman is looking at a book. Since the hypothesis does not provide enough information to confirm that the woman is looking at a book, the premise and hypothesis do not entail each other.\n",
      "\n",
      "Given input: Premise: Richard assumes that in a chain link enclosed skate park a skater goes over one of the obstacles.Wit. Hypothesis: Michael assumes that a person is skating.\n",
      "And its expected output: non-entailment. And the reason for the expected output: The witness hypothesis only states that a person is skating, but it does not specify that the person is skating in the chain link enclosed skate park. Therefore, the premise that a skater goes over one of the obstacles in the skate park is not entailed by the witness hypothesis.\n",
      "\n",
      "Given input: Premise: Evelyn knows that David assumes that a boy wearing a shirt with an American flag plays with a basketball on the blacktop. Hypothesis: David assumes that Evelyn knows that a boy wearing a shirt with an American flag plays with a basketball on the blacktop.\n",
      "And its expected output: non-entailment. And the reason for the expected output: The premise states that Evelyn knows what David assumes, but the hypothesis assumes that Evelyn knows the same information as David. Since the premise and hypothesis are talking about different levels of knowledge, they do not entail each other.\n",
      "\n",
      "Given input: Premise: Evelyn suspects that Joseph understands that at a table with an art camp pamphlet on it, a young woman and an older man are painting ceramics under the supervision of a blond woman wearing a name tag. Hypothesis: Joseph understands that at a table with an art camp pamphlet on it, a young woman and an older man are painting ceramics under the supervision of a blond woman wearing a name tag.\n",
      "And its expected output: non-entailment. And the reason for the expected output: The premise only states that Evelyn suspects that Joseph understands the situation, but it does not confirm that he actually does understand it. In other words, the premise does not provide enough information to confirm that Joseph has the same understanding as Evelyn.\n",
      "\n",
      "Given input: Premise: Sophia thinks that Olivia sees that three men in Soldier dress and helmets stand with guns outside of a building. Hypothesis: Olivia sees that three men in Soldier dress and helmets stand with guns outside of a building.\n",
      "And its expected output: non-entailment. And the reason for the expected output: The hypothesis merely paraphrases the premise, without adding any new information. This means that the hypothesis does not provide any additional evidence or reasoning that would entail the premise.\n",
      "\n",
      "Given input: Premise: William suspects that Richard believes that two hockey players on opposing teams, one in a red and white jersey and one in a blue and black jersey, are standing on the rink. Hypothesis: Richard believes that two hockey players on opposing teams, one in a red and white jersey and one in a blue and black jersey, are standing on the rink.\n",
      "And its expected output: non-entailment. And the reason for the expected output: The premise only states that William suspects what Richard believes, but it does not confirm that Richard actually believes it. In other words, the premise does not provide sufficient information to conclude that Richard's belief is true.\n",
      "\n",
      "Given input: Premise: Taylor assumes that Abigail believes that a man in a button up shirt with a black shirt underneath presents in front of a television. Hypothesis: Taylor assumes that a man in a button up shirt with a black shirt underneath presents in front of a television.\n",
      "And its expected output: non-entailment. And the reason for the expected output: The premise states that Abigail believes the man is presenting in front of a television, while the hypothesis only states that Taylor assumes the man is presenting. There is no guarantee that the man is actually presenting, only that Taylor assumes he is.\n",
      "\n",
      "Given input: Premise: Ava thinks that Charles remembers that a soccer player with black and red striped uniform gets ready to kick the soccer ball. Hypothesis: Charles remembers that a soccer player with black and red striped uniform gets ready to kick the soccer ball.\n",
      "And its expected output: non-entailment. And the reason for the expected output:  The answer is no, there is no new information or perspective added in the hypothesis that would make it entail the premise. The two sentences are simply restating the same information, and therefore do not entail each other. \n",
      "\n",
      "Given input: Premise: David believes that Joseph believes that a member of a Bergwacht team leads a sled laden with orange material while on skis as his colleague stands in the foreground. Hypothesis: Joseph believes that a member of a Bergwacht team leads a sled laden with orange material while on skis as his colleague stands in the foreground.\n",
      "And its expected output: non-entailment. And the reason for the expected output: The premise and hypothesis are both about the same belief of Joseph, so there is no new information to entail a conclusion.\n",
      "\n",
      "Given input: Premise: Evelyn understands that a small child wearing a helmet is in a baby carrier that is on the floor. Hypothesis: Joseph understands that a child is in a baby carrier.\n",
      "And its expected output: non-entailment. And the reason for the expected output: The premise specifies that the child is wearing a helmet, while the hypothesis does not include any information about the child's attire. Therefore, the hypothesis does not entail the premise.\n",
      "\n",
      "Given input: Premise: Amelia believes that Charlotte assumes that a cheerful boy rides a makeshift sled down a snowy hill. Hypothesis: Amelia believes that a cheerful boy rides a makeshift sled down a snowy hill.\n",
      "And its expected output: non-entailment. And the reason for the expected output: The premise and hypothesis are the same, so there is no entailment. The premise only restates the hypothesis in a different way. To determine entailment, we need to compare the premise to the hypothesis and look for any new information or evidence that would lead to a different conclusion.\n",
      "\n",
      "Given input: Premise: Thomas assumes that Emma learns that a young football player watches a game with his coach. Hypothesis: Emma learns that a young football player watches a game with his coach.\n",
      "And its expected output: non-entailment. And the reason for the expected output: The premise states that Thomas assumes that Emma learns something, but the hypothesis only states that Emma learns something without specifying what she learns. Therefore, we cannot infer that Emma learns what Thomas assumes she learns.\n",
      "\n",
      "\n",
      "Summarised reason output:\n"
     ]
    }
   ],
   "source": [
    "summarised_prompt=get_summarise_step4(wrong_answers,hints_wrong)"
   ]
  },
  {
   "cell_type": "code",
   "execution_count": 69,
   "metadata": {},
   "outputs": [],
   "source": [
    "final_prompt=task_description+\"\\n\"+'Some useful hints are: '+summarised_prompt+'\\n'+'Given input: '+'<INPUT>'+'\\n'+task_prefix+'Put your one-word answer choosing from the previously stated two options within tag <Ans> and </Ans>. The one word answer should be necassarily between the tags.'"
   ]
  },
  {
   "cell_type": "code",
   "execution_count": 70,
   "metadata": {},
   "outputs": [
    {
     "data": {
      "text/plain": [
       "\"Determine whether one sentence entails the next\\nSome useful hints are: Based on the given input and output pairs, the general reason for non-entailment is that the hypothesis does not provide new information or perspective that would entail the premise. The premise and hypothesis are either the same statement or do not provide sufficient information to confirm the conclusion. Therefore, the output for all the cases is non-entailment.\\nGiven input: <INPUT>\\nIdentify the relation between the following premises and hypotheses, choosing from the options 'entailment' or 'non-entailment'.\\nPut your one-word answer choosing from the previously stated two options within tag <Ans> and </Ans>. The one word answer should be necassarily between the tags.\""
      ]
     },
     "execution_count": 70,
     "metadata": {},
     "output_type": "execute_result"
    }
   ],
   "source": [
    "final_prompt"
   ]
  },
  {
   "cell_type": "code",
   "execution_count": 68,
   "metadata": {},
   "outputs": [
    {
     "data": {
      "text/plain": [
       "'Determine whether one sentence entails the next'"
      ]
     },
     "execution_count": 68,
     "metadata": {},
     "output_type": "execute_result"
    }
   ],
   "source": []
  },
  {
   "cell_type": "markdown",
   "metadata": {},
   "source": [
    "# Now we have to replicate all these steps for T iterations, just a for loop"
   ]
  },
  {
   "cell_type": "code",
   "execution_count": null,
   "metadata": {},
   "outputs": [],
   "source": []
  }
 ],
 "metadata": {
  "kernelspec": {
   "display_name": "my_env",
   "language": "python",
   "name": "my_env"
  },
  "language_info": {
   "codemirror_mode": {
    "name": "ipython",
    "version": 3
   },
   "file_extension": ".py",
   "mimetype": "text/x-python",
   "name": "python",
   "nbconvert_exporter": "python",
   "pygments_lexer": "ipython3",
   "version": "3.11.4"
  }
 },
 "nbformat": 4,
 "nbformat_minor": 4
}
