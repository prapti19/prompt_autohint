{
 "cells": [
  {
   "cell_type": "code",
   "execution_count": 1,
   "metadata": {},
   "outputs": [],
   "source": [
    "!export HF_DATASETS_CACHE=\"/scratch/pt2295/cache/\""
   ]
  },
  {
   "cell_type": "code",
   "execution_count": 2,
   "metadata": {},
   "outputs": [],
   "source": [
    "!export CUDA_VISIBLE_DEVICES=0,1,2,3"
   ]
  },
  {
   "cell_type": "code",
   "execution_count": 3,
   "metadata": {},
   "outputs": [],
   "source": [
    "import os\n",
    "os.environ['TRANSFORMERS_CACHE'] = '/scratch/pt2295/cache/'"
   ]
  },
  {
   "cell_type": "code",
   "execution_count": 4,
   "metadata": {},
   "outputs": [],
   "source": [
    "import json\n",
    "import random\n",
    "import re\n",
    "\n",
    "\n",
    "\n",
    "file_path = \"/scratch/pt2295/LlvmProject/automatic_prompt_engineer/data/bigbench-ii/epistemic_reasoning/task.json\"\n",
    "\n",
    "with open(file_path, 'r') as json_file:\n",
    "    \n",
    "    data_orig = json.load(json_file)"
   ]
  },
  {
   "cell_type": "code",
   "execution_count": 5,
   "metadata": {},
   "outputs": [],
   "source": [
    "data=data_orig['examples']"
   ]
  },
  {
   "cell_type": "code",
   "execution_count": 6,
   "metadata": {},
   "outputs": [
    {
     "data": {
      "text/plain": [
       "2000"
      ]
     },
     "execution_count": 6,
     "metadata": {},
     "output_type": "execute_result"
    }
   ],
   "source": [
    "len(data_orig['examples'])"
   ]
  },
  {
   "cell_type": "code",
   "execution_count": 7,
   "metadata": {},
   "outputs": [],
   "source": [
    "random.shuffle(data)\n",
    "\n",
    "# Define the proportions for train, test, and validation sets\n",
    "total_samples = len(data)\n",
    "train_ratio = 0.7\n",
    "test_ratio = 0.15\n",
    "validation_ratio = 0.15\n",
    "\n",
    "# Calculate the sizes of each set\n",
    "train_size = int(total_samples * train_ratio)\n",
    "test_size = int(total_samples * test_ratio)\n",
    "validation_size = int(total_samples * validation_ratio)\n",
    "\n",
    "# Split the data into sets\n",
    "train_data = data[:train_size]\n",
    "test_data = data[train_size:train_size + test_size]\n",
    "validation_data = data[train_size + test_size:]"
   ]
  },
  {
   "cell_type": "code",
   "execution_count": 8,
   "metadata": {},
   "outputs": [
    {
     "data": {
      "text/plain": [
       "1400"
      ]
     },
     "execution_count": 8,
     "metadata": {},
     "output_type": "execute_result"
    }
   ],
   "source": [
    "len(train_data)"
   ]
  },
  {
   "cell_type": "code",
   "execution_count": 9,
   "metadata": {},
   "outputs": [],
   "source": [
    "train_data=train_data[0:100]"
   ]
  },
  {
   "cell_type": "markdown",
   "metadata": {},
   "source": [
    "# Algo"
   ]
  },
  {
   "cell_type": "code",
   "execution_count": 10,
   "metadata": {},
   "outputs": [],
   "source": [
    "task_description=data_orig['description']"
   ]
  },
  {
   "cell_type": "code",
   "execution_count": 11,
   "metadata": {},
   "outputs": [],
   "source": [
    "task_type='entailment'"
   ]
  },
  {
   "cell_type": "code",
   "execution_count": 12,
   "metadata": {},
   "outputs": [],
   "source": [
    "task_prefix=data_orig['task_prefix']\n",
    "if task_type=='hyperbaton':\n",
    "    task_prefix=task_prefix.strip()\n",
    "    task_prefix+=\" Choose only from the following options: 'a' or 'b'.\\n\""
   ]
  },
  {
   "cell_type": "code",
   "execution_count": 13,
   "metadata": {},
   "outputs": [],
   "source": [
    "def preprocess(text):\n",
    "    return"
   ]
  },
  {
   "cell_type": "code",
   "execution_count": 14,
   "metadata": {},
   "outputs": [],
   "source": [
    "def extract_answer(length,line,task_type='entailment'):\n",
    "    line=line[length:]\n",
    "    pattern = r'<Ans>(.*?)</Ans>|Ans:\\s*([\\w-]+)'\n",
    "    matches = re.findall(pattern, line)\n",
    "    if len(matches)==0:\n",
    "        return -1\n",
    "#     print(\"WHAT\",matches)\n",
    "    if task_type=='entailment':\n",
    "        if matches =='entailment' or matches=='Entailment' or \"non-entail\" not in matches:\n",
    "            return 1\n",
    "    elif task_type=='hyperbaton':\n",
    "        print(matches[0][0])\n",
    "        if matches[0][0]=='a' or matches[0][0]=='A':\n",
    "            return 1\n",
    "    return 0\n",
    "  "
   ]
  },
  {
   "cell_type": "code",
   "execution_count": 15,
   "metadata": {},
   "outputs": [
    {
     "name": "stderr",
     "output_type": "stream",
     "text": [
      "/ext3/miniconda3/lib/python3.11/site-packages/tqdm/auto.py:21: TqdmWarning: IProgress not found. Please update jupyter and ipywidgets. See https://ipywidgets.readthedocs.io/en/stable/user_install.html\n",
      "  from .autonotebook import tqdm as notebook_tqdm\n",
      "Loading checkpoint shards: 100%|██████████| 3/3 [00:37<00:00, 12.63s/it]\n"
     ]
    }
   ],
   "source": [
    "from transformers import AutoTokenizer,AutoModelForCausalLM\n",
    "import transformers\n",
    "import torch\n",
    "\n",
    "model_name = \"meta-llama/Llama-2-13b-chat-hf\"\n",
    "custom_cache_dir = \"/scratch/pt2295/cache/\"\n",
    "tokenizer = AutoTokenizer.from_pretrained(model_name,cache_dir=custom_cache_dir,use_fast=True)\n",
    "\n",
    "# pipeline = transformers.pipeline(\n",
    "#     \"text-generation\",\n",
    "#     model=model_name,\n",
    "#     torch_dtype=torch.float16,\n",
    "#     device_map=\"auto\",\n",
    "#     tokenizer=tokenizer\n",
    "    \n",
    "# )\n",
    "model = AutoModelForCausalLM.from_pretrained(model_name, device_map=\"auto\", load_in_4bit=True,cache_dir=custom_cache_dir)\n",
    "\n",
    "\n"
   ]
  },
  {
   "cell_type": "code",
   "execution_count": 16,
   "metadata": {},
   "outputs": [],
   "source": [
    "def get_answer_llm(user_prompt):\n",
    "# user_prompt=\"Determine whether one sentence entails the next. Given input: Premise: William suspects that Isabella learns that two men are in blue life jackets and sitting on innertubes with 'Crusher' written on them in the middle of a body of water. Hypothesis: Isabella learns that two men are in blue life jackets and sitting on innertubes with 'Crusher' written on them in the middle of a body of water.Identify the relation between the following premises and hypotheses, choosing from the options 'entailment' or 'non-entailment'. Put your answer within tag <Ans> and </Ans>\"\n",
    "    sys_prompt=\"You are a helpful, respectful and honest assistant. Always answer as helpfully as possible, while being safe. Your answers should not include any harmful, unethical, racist, sexist, toxic, dangerous, or illegal content. Please ensure that your responses are socially unbiased and positive in nature.If a question does not make any sense, or is not factually coherent, explain why instead of answering something not correct. If you don't know the answer to a question, please don't share false information.\"\n",
    "    prompt=f\"<s>[INST] {user_prompt} [/INST]\"\n",
    "    \n",
    "#     sequences = pipeline(\n",
    "#     prompt,\n",
    "#     max_new_tokens=200\n",
    "#     )\n",
    "#     return sequences[0][\"generated_text\"][len(prompt):]\n",
    "    \n",
    "   \n",
    "    model_inputs = tokenizer(prompt, return_tensors=\"pt\").to(\"cuda\")\n",
    "\n",
    "    output = model.generate(**model_inputs)\n",
    "\n",
    "#     print(tokenizer.decode(output[0], skip_special_tokens=True))\n",
    "    return tokenizer.decode(output[0], skip_special_tokens=True)\n"
   ]
  },
  {
   "cell_type": "code",
   "execution_count": 17,
   "metadata": {},
   "outputs": [],
   "source": [
    "# model = AutoModelForCausalLM.from_pretrained(model_name, device_map=\"auto\", load_in_4bit=True)\n",
    "# tokenizer = AutoTokenizer.from_pretrained(model_name, use_fast=True, use_auth_token=access_token)\n",
    "# model_inputs = tokenizer(prompt, return_tensors=\"pt\").to(\"cuda:0\")\n",
    "\n",
    "# output = model.generate(**model_inputs)\n",
    "\n",
    "# print(tokenizer.decode(output[0], skip_special_tokens=True))"
   ]
  },
  {
   "cell_type": "code",
   "execution_count": 18,
   "metadata": {},
   "outputs": [],
   "source": [
    "# for seq in sequences:\n",
    "#     print(f\"Result: {seq['generated_text']}\")\n",
    "#     print()\n",
    "    "
   ]
  },
  {
   "cell_type": "code",
   "execution_count": 19,
   "metadata": {},
   "outputs": [],
   "source": [
    "def run_inference_step1(task_type='entailment'):\n",
    "    wrong_ans_indices=[]\n",
    "    not_got=[]\n",
    "    for i in range(len(train_data)):\n",
    "        \n",
    "        prompt_t= task_description+'\\n'+'Given input: '+train_data[i]['input']+'\\n'+task_prefix+'Put your one-word answer choosing from the previously stated two options within tag <Ans> and </Ans>. The one word answer should be necassarily between the tags.'\n",
    "        op=get_answer_llm(prompt_t)\n",
    "        output_str=op#\"\".join([i['generated_text'] for i in op])\n",
    "\n",
    "#         print(prompt_t)\n",
    "        ans=extract_answer(len(prompt_t),output_str,task_type)\n",
    "        if ans==-1:\n",
    "            not_got.append(i)\n",
    "            continue\n",
    "        ground_truth=1\n",
    "        print(\"$$$$$\",ans)\n",
    "        if task_type=='entailment':\n",
    "            if train_data[i]['target_scores']['non-entailment']==1:\n",
    "                ground_truth=0\n",
    "        elif task_type=='hyperbaton':\n",
    "            if train_data[i]['target_scores']['b']==1:\n",
    "                ground_truth=0\n",
    "        if (ans!=ground_truth):\n",
    "            wrong_ans_indices.append(i)\n",
    "        \n",
    "    \n",
    "        \n",
    "    \n",
    "    return wrong_ans_indices"
   ]
  },
  {
   "cell_type": "code",
   "execution_count": 20,
   "metadata": {},
   "outputs": [
    {
     "name": "stderr",
     "output_type": "stream",
     "text": [
      "/ext3/miniconda3/lib/python3.11/site-packages/bitsandbytes/nn/modules.py:224: UserWarning: Input type into Linear4bit is torch.float16, but bnb_4bit_compute_type=torch.float32 (default). This will lead to slow inference or training speed.\n",
      "  warnings.warn(f'Input type into Linear4bit is torch.float16, but bnb_4bit_compute_type=torch.float32 (default). This will lead to slow inference or training speed.')\n"
     ]
    },
    {
     "name": "stdout",
     "output_type": "stream",
     "text": [
      "$$$$$ 1\n",
      "$$$$$ 1\n",
      "$$$$$ 1\n",
      "$$$$$ 1\n",
      "$$$$$ 1\n",
      "$$$$$ 1\n",
      "$$$$$ 1\n",
      "$$$$$ 1\n",
      "$$$$$ 1\n",
      "$$$$$ 1\n",
      "$$$$$ 1\n",
      "$$$$$ 1\n",
      "$$$$$ 1\n",
      "$$$$$ 1\n",
      "$$$$$ 1\n",
      "$$$$$ 1\n",
      "$$$$$ 1\n",
      "$$$$$ 1\n",
      "$$$$$ 1\n",
      "$$$$$ 1\n",
      "$$$$$ 1\n",
      "$$$$$ 1\n",
      "$$$$$ 1\n",
      "$$$$$ 1\n",
      "$$$$$ 1\n",
      "$$$$$ 1\n",
      "$$$$$ 1\n",
      "$$$$$ 1\n",
      "$$$$$ 1\n",
      "$$$$$ 1\n",
      "$$$$$ 1\n",
      "$$$$$ 1\n",
      "$$$$$ 1\n",
      "$$$$$ 1\n",
      "$$$$$ 1\n",
      "$$$$$ 1\n",
      "$$$$$ 1\n",
      "$$$$$ 1\n",
      "$$$$$ 1\n",
      "$$$$$ 1\n",
      "$$$$$ 1\n",
      "$$$$$ 1\n",
      "$$$$$ 1\n",
      "$$$$$ 1\n",
      "$$$$$ 1\n",
      "$$$$$ 1\n",
      "$$$$$ 1\n",
      "$$$$$ 1\n",
      "$$$$$ 1\n",
      "$$$$$ 1\n",
      "$$$$$ 1\n",
      "$$$$$ 1\n",
      "$$$$$ 1\n",
      "$$$$$ 1\n",
      "$$$$$ 1\n",
      "$$$$$ 1\n",
      "$$$$$ 1\n",
      "$$$$$ 1\n",
      "$$$$$ 1\n",
      "$$$$$ 1\n",
      "$$$$$ 1\n",
      "$$$$$ 1\n",
      "$$$$$ 1\n",
      "$$$$$ 1\n",
      "$$$$$ 1\n",
      "$$$$$ 1\n",
      "$$$$$ 1\n",
      "$$$$$ 1\n",
      "$$$$$ 1\n",
      "$$$$$ 1\n",
      "$$$$$ 1\n",
      "$$$$$ 1\n",
      "$$$$$ 1\n",
      "$$$$$ 1\n",
      "$$$$$ 1\n",
      "$$$$$ 1\n",
      "$$$$$ 1\n",
      "$$$$$ 1\n",
      "$$$$$ 1\n",
      "$$$$$ 1\n",
      "$$$$$ 1\n",
      "$$$$$ 1\n",
      "$$$$$ 1\n",
      "$$$$$ 1\n",
      "$$$$$ 1\n",
      "$$$$$ 1\n",
      "$$$$$ 1\n",
      "$$$$$ 1\n",
      "$$$$$ 1\n",
      "$$$$$ 1\n",
      "$$$$$ 1\n",
      "$$$$$ 1\n",
      "$$$$$ 1\n",
      "$$$$$ 1\n",
      "$$$$$ 1\n",
      "$$$$$ 1\n",
      "$$$$$ 1\n",
      "$$$$$ 1\n",
      "$$$$$ 1\n",
      "$$$$$ 1\n"
     ]
    }
   ],
   "source": [
    "wrong_answers=run_inference_step1(task_type)"
   ]
  },
  {
   "cell_type": "code",
   "execution_count": null,
   "metadata": {},
   "outputs": [],
   "source": [
    "# answer not only within tags, difficult to extract answer -> solved by improving prompt\n",
    "#70b is good but v slow\n",
    "#maybe use pipeline with datasets or use more gpus"
   ]
  },
  {
   "cell_type": "code",
   "execution_count": 32,
   "metadata": {},
   "outputs": [],
   "source": [
    "def extract_hint(length,line):\n",
    "    line=line[length:]\n",
    "    pattern = r'<hint>(.*?)</hint>'\n",
    "    matches = re.findall(pattern, line)\n",
    "    if len(matches)==0:\n",
    "        return \"\"\n",
    "    return matches[0]"
   ]
  },
  {
   "cell_type": "code",
   "execution_count": 41,
   "metadata": {},
   "outputs": [
    {
     "data": {
      "text/plain": [
       "[0,\n",
       " 1,\n",
       " 3,\n",
       " 5,\n",
       " 6,\n",
       " 7,\n",
       " 8,\n",
       " 9,\n",
       " 10,\n",
       " 13,\n",
       " 14,\n",
       " 15,\n",
       " 16,\n",
       " 17,\n",
       " 19,\n",
       " 20,\n",
       " 21,\n",
       " 22,\n",
       " 23,\n",
       " 24,\n",
       " 25,\n",
       " 26,\n",
       " 27,\n",
       " 30,\n",
       " 31,\n",
       " 32,\n",
       " 33,\n",
       " 34,\n",
       " 35,\n",
       " 36,\n",
       " 37,\n",
       " 39,\n",
       " 41,\n",
       " 43,\n",
       " 44,\n",
       " 45,\n",
       " 46,\n",
       " 49,\n",
       " 50,\n",
       " 51,\n",
       " 52,\n",
       " 54,\n",
       " 55,\n",
       " 57,\n",
       " 58,\n",
       " 59,\n",
       " 60,\n",
       " 62,\n",
       " 63,\n",
       " 64,\n",
       " 66,\n",
       " 69,\n",
       " 72,\n",
       " 73,\n",
       " 75,\n",
       " 76,\n",
       " 77,\n",
       " 81,\n",
       " 84,\n",
       " 85,\n",
       " 88,\n",
       " 89,\n",
       " 90,\n",
       " 91,\n",
       " 93,\n",
       " 97,\n",
       " 99]"
      ]
     },
     "execution_count": 41,
     "metadata": {},
     "output_type": "execute_result"
    }
   ],
   "source": [
    "(wrong_answers)"
   ]
  },
  {
   "cell_type": "code",
   "execution_count": 34,
   "metadata": {},
   "outputs": [],
   "source": [
    "# len(not_got_append)"
   ]
  },
  {
   "cell_type": "code",
   "execution_count": 45,
   "metadata": {},
   "outputs": [],
   "source": [
    "def get_hints_residual_step2():\n",
    "    hints_wrong_ans=[]\n",
    "    for idx in wrong_answers:\n",
    "        if task_type=='entailment':\n",
    "            if train_data[idx]['target_scores']['entailment']==1:\n",
    "                ans='entailment'\n",
    "            else:\n",
    "                ans='non-entailment'\n",
    "        prompt_h='Given following task:'+task_description+'\\n'+'Given input: '+train_data[idx]['input']+'\\n'+'And its expected output: '+ans+'\\n'+'List the reason or hint why its with this expected output within tag <hint> and </hint>. The hint or explaination should be necassarily between the tags.'\n",
    "       \n",
    "        op=get_answer_llm(prompt_h)\n",
    "        hint=extract_hint(len(prompt_h),op)\n",
    "       \n",
    "        if hint!='':\n",
    "            hints_wrong_ans.append((idx,hint))\n",
    "        \n",
    "    return hints_wrong_ans\n",
    "    "
   ]
  },
  {
   "cell_type": "code",
   "execution_count": 46,
   "metadata": {},
   "outputs": [],
   "source": [
    "hints_wrong=get_hints_residual_step2()"
   ]
  },
  {
   "cell_type": "code",
   "execution_count": 47,
   "metadata": {},
   "outputs": [
    {
     "data": {
      "text/plain": [
       "[(0,\n",
       "  \"Think about the difference between knowledge and beliefs. James's beliefs about Taylor's knowledge are not necessarily the same as Taylor's actual knowledge.\"),\n",
       " (1,\n",
       "  'The premise and hypothesis are both statements about the same thing - a speaking woman at a podium with a specific phrase written on it. There is no new information or difference between the two statements to establish an entailment relationship.'),\n",
       " (3,\n",
       "  'Note that the premise and hypothesis are both statements about beliefs and suspicions, but they do not provide enough information to determine a logical connection between the two.'),\n",
       " (5,\n",
       "  'Note that the hypothesis is not a direct restatement of the premise, but rather a rearrangement of the words. This is a common technique used in logic puzzles to test the ability to recognize non-entailment.'),\n",
       " (6,\n",
       "  'Note that the hypothesis is not providing any new information or perspective that would lead to the conclusion. The premise and hypothesis are essentially saying the same thing, which is why there is no entailment.'),\n",
       " (7,\n",
       "  'Note that the premise and hypothesis are in the same tense, which is a common feature of logical reasoning tasks. Pay attention to the verb tenses when evaluating the entailment relationship.'),\n",
       " (8,\n",
       "  \"The premise states that Sophia assumes that Olivia assumes a group of people are sightseeing and taking pictures, but the hypothesis only states that Olivia assumes the group is sightseeing and taking pictures. There is no assumption about Olivia's assumptions in the hypothesis, so it does not entail the premise.\"),\n",
       " (9,\n",
       "  'The premise states that Joseph learns that William believes something, but the hypothesis states that William believes something about Joseph learning.'),\n",
       " (10,\n",
       "  'Note that entailment is a logical relationship between two statements, and it requires that the conclusion follows logically from the premises. In this case, the premise and hypothesis are the same statement, so there is no conclusion that can be drawn from them.'),\n",
       " (13,\n",
       "  \"The premise states that Taylor believes that a person is obscured in shadow in a gymnasium, but the hypothesis states that Taylor believes that Olivia sees that person. These two statements are not logically equivalent, as Taylor's belief may not necessarily align with what Olivia sees or believes.\"),\n",
       " (14,\n",
       "  \"Note that the hypothesis is not a logical consequence of the premise, as the premise only provides information about Sophia's thoughts, not Isabella's.\"),\n",
       " (15,\n",
       "  'The premise mentions specific clothing items (white shirt and blue jeans) that are not present in the hypothesis, so the hypothesis does not entail the premise.'),\n",
       " (16,\n",
       "  'The premise states that Emma suspects that Abigail suspects something, but the hypothesis does not confirm or deny that Abigail has any suspicions. In fact, the hypothesis only states that Abigail suspects something, which could be anything, not necessarily the same thing that Emma suspects.'),\n",
       " (17,\n",
       "  'The premise and hypothesis are not logically connected. The premise states that Robert believes Thomas knows something, but the hypothesis does not specify what Thomas knows. Without more information, it is not possible to determine whether the premise entails the hypothesis.'),\n",
       " (19,\n",
       "  \"The premise only provides information about John's beliefs, while the hypothesis makes a specific claim about the young man's actions. Therefore, the two sentences are not logically connected, and the expected output is non-entailment.\"),\n",
       " (20,\n",
       "  'Note that the word \"assumes\" in the premise implies that Abigail has made an assumption about James\\' beliefs, but it does not necessarily imply that Abigail knows what James actually believes. Therefore, the hypothesis does not logically follow from the premise.'),\n",
       " (21,\n",
       "  \"The premise only states that James thinks Ava assumes something, but it doesn't specify what Ava assumes. The hypothesis, on the other hand, states that Ava assumes the little boy stands in the middle of birds who have gathered on the sidewalk. However, the premise doesn't provide enough information to infer that Ava assumes this specific thing.\"),\n",
       " (22,\n",
       "  'The premise and hypothesis are the same sentence, so there is no entailment.'),\n",
       " (23,\n",
       "  \"The premise states that William knows the man is wearing a specific type of shirt and holding a specific item (lunch box and banana), but it does not mention anything about the man eating lunch. The hypothesis, on the other hand, simply states that Evelyn knows that a man is eating lunch, without providing any information about the man's attire or actions. Therefore, the hypothesis does not entail the premise.\"),\n",
       " (24,\n",
       "  'The reason for non-entailment is that the premise and hypothesis are the same sentence, which means that the hypothesis does not logically follow from the premise.'),\n",
       " (25,\n",
       "  \" Think about what the premise and hypothesis are saying. The premise only tells us about Richard's belief, but the hypothesis is trying to infer something specific about James's belief. Does the premise provide enough information to justify that inference? \"),\n",
       " (26,\n",
       "  'Note that the hypothesis is not logically implied by the premise, because the premise only states what Isabella understands, but the hypothesis adds an extra step and assumes that Olivia thinks that Isabella understands something else.'),\n",
       " (27,\n",
       "  \"The premise states that William learns something, while the hypothesis only states that William is aware of a certain situation. The premise implies that William has acquired new information, while the hypothesis does not provide any information about William's knowledge or beliefs.\"),\n",
       " (30,\n",
       "  'The premise states that William assumes that James assumes something, but the hypothesis does not mention William or his assumptions. Therefore, the hypothesis does not entail the premise.'),\n",
       " (31,\n",
       "  'The premise states that John remembers what Emma suspects, but the hypothesis states that Emma suspects what John remembers.'),\n",
       " (32,\n",
       "  'The premise states that William suspects that Olivia learns something, but the hypothesis only states that Olivia learns something without specifying who or what she learns about.'),\n",
       " (33,\n",
       "  \"The premise states that James suspects that Isabella understands something, but it doesn't explicitly state what she understands. The hypothesis, on the other hand, states that Isabella understands a specific thing (a four piece band playing a song on a medium-size stage). Since the premise doesn't explicitly state that Isabella understands the same thing as the hypothesis, the two sentences do not entail each other.\"),\n",
       " (34,\n",
       "  'The premise states that William suspects that Charlotte sees a specific dog (the large black and white dog) licking another specific dog (the smaller white and black dog), whereas the hypothesis only states that Charlotte sees a dog (any dog) licking another dog (any dog).'),\n",
       " (35,\n",
       "  'The fact that the baseball players near the pitching mound are celebrating does not necessarily mean that the batsman is on a different team than the others around the pitching mound.'),\n",
       " (37,\n",
       "  'The premise states that Joseph thinks that Richard believes something, but the hypothesis only states what Joseph thinks. There is no direct connection between what Richard believes and what Joseph thinks, so the two sentences do not entail each other.'),\n",
       " (39,\n",
       "  \"Notice that the premise only talks about Robert's suspicions, while the hypothesis makes a direct claim about Taylor's knowledge. To entailment, the hypothesis would need to provide more information about how Taylor gained this knowledge.\"),\n",
       " (41,\n",
       "  'The premise only states what Taylor thinks, not what actually happens.'),\n",
       " (43,\n",
       "  \"Charlotte's belief about David's belief is not the same as David's belief itself. Just because Charlotte believes that David believes something, it doesn't mean that David actually does believe it. In this case, Charlotte's belief about David's belief is based on her own interpretation of David's thoughts, and it may not accurately reflect David's actual beliefs.\"),\n",
       " (44,\n",
       "  \"The premise only provides a suspicion or belief held by Joseph about William's belief, whereas the hypothesis states a direct belief held by William. Therefore, the premise does not provide enough information to confirm or deny the hypothesis.\"),\n",
       " (45,\n",
       "  \"Think about it this way: Thomas's belief is about a specific group of people (four men) in a specific location (behind a cash register), while Ava's belief is just a general statement about four men posing without any specific location or context.\"),\n",
       " (46,\n",
       "  \"The premise states that Isabella suspects that the child with curly blond-hair looks at another child, but the hypothesis only states that Olivia suspects that the child with curly blond-hair looks at another child. The two statements are not the same, and there is no guarantee that Olivia's suspicion is correct or that it aligns with Isabella's suspicion.\"),\n",
       " (49,\n",
       "  \"The premise states that Charles assumes the little boy is putting sunglasses up to the window, but the hypothesis only states that Michael thinks the little boy is doing so. There is no direct connection between Michael's thought and Charles' assumption.\"),\n",
       " (50,\n",
       "  'Note that the word \"fruit\" in the hypothesis is a general term that could refer to any type of fruit, while the premise specifically mentions \"plantains\". This difference in specificity means that the two sentences do not share enough common information to be considered entailed.'),\n",
       " (52,\n",
       "  'The reason for non-entailment is that the premise and hypothesis are identical, providing no new information or insight.'),\n",
       " (54,\n",
       "  'The premise states that Charles remembers what Charlotte assumes, but the hypothesis does not assume that Charles remembers.'),\n",
       " (55,\n",
       "  'The hypothesis only states that Joseph believes something, while the premise states that David believes what Joseph believes. Since David is not directly stating what he believes, the hypothesis does not entail the premise.'),\n",
       " (57,\n",
       "  'The premise states that Thomas believes Abigail remembers something, while the hypothesis states that Abigail actually remembers it. There is a possibility that Abigail does not actually remember what Thomas believes she remembers.'),\n",
       " (58,\n",
       "  'The premise states that Charles thinks that Isabella thinks something, but the hypothesis only states what Isabella thinks, without specifying whether she thinks it or not.'),\n",
       " (59,\n",
       "  'The premise states that Evelyn understands what Amelia suspects, but the hypothesis states that Amelia suspects that Evelyn understands. This is a reversal of the relationship between the two statements, and the hypothesis does not logically follow from the premise.'),\n",
       " (60,\n",
       "  'Entailment requires a difference in the information conveyed by the two sentences. In this case, the premise and hypothesis are the same, so there is no difference in the information conveyed. Therefore, there is no entailment.'),\n",
       " (62,\n",
       "  'Note that if the hypothesis had stated \"Richard knows that Charlotte recognizes that two people are running in the grass by a hill\", then the entailment would be yes, because the hypothesis would confirm that Charlotte recognizes the two people running in the grass by the hill.'),\n",
       " (63,\n",
       "  'The premise and hypothesis are the same, so there is no new information or inference that can be made from one to the other. The statements are identical, and therefore, there is no entailment between them.'),\n",
       " (64,\n",
       "  \"Note that the hypothesis is trying to add a new belief (Sophia's belief) to the chain of beliefs, but it doesn't follow logically from the premise. To entailment, the hypothesis should be based on the premise or at least be a logical consequence of it.\"),\n",
       " (66,\n",
       "  'The premise states that Charles believes something, but the hypothesis only states that Olivia believes something. There is no direct connection between what Charles believes and what Olivia believes.'),\n",
       " (69,\n",
       "  \"Note that the hypothesis does not provide any information about Richard's belief, so it is not possible to determine whether Charles's belief about Richard's belief is correct or not.\"),\n",
       " (72,\n",
       "  'The hypothesis does not provide any additional information or insight beyond what is already stated in the premise. It simply restates the premise in different words.'),\n",
       " (73,\n",
       "  'Note that entailment is a logical relationship between two sentences, and it requires that the hypothesis follows logically from the premise. In this case, the premise and hypothesis are the same sentence, so there is no room for entailment.'),\n",
       " (75,\n",
       "  'The premise mentions the Amish people are standing at a fence overlooking a forest and river, while the hypothesis only states that David knows that several people are standing outside near water. There is no guarantee that the people standing outside near water are the same as the Amish people standing at the fence.'),\n",
       " (76,\n",
       "  \"Olivia's thoughts about Emma's suspicions are only about Emma's beliefs, not about Olivia's own beliefs.\"),\n",
       " (77,\n",
       "  'The premise only states that Joseph suspects that Isabella learns something, but it does not provide any information about what Isabella learns. The hypothesis assumes that Isabella learns that a woman is standing at a podium, but this is not guaranteed by the premise.'),\n",
       " (81,\n",
       "  \"The premise and hypothesis are the same sentence. Emma's assumption is not entailed by the hypothesis because the hypothesis simply restates the premise.\"),\n",
       " (84,\n",
       "  'The premise only mentions the young man exiting the pool, but it does not provide any information about whether or not he was swimming in the pool. The hypothesis assumes that the man was swimming in the pool, but the premise does not confirm or deny this assumption. Therefore, the premise does not entail the hypothesis.'),\n",
       " (85,\n",
       "  \"Note that the premise only provides information about Joseph's observation of someone paragliding, but it does not provide any information about Amelia or her observations.\"),\n",
       " (88,\n",
       "  'The premise only states that Olivia thinks that David assumes something, but it does not provide any information about what David assumes. The hypothesis assumes that David assumes two casually-dressed men make their way through a crowd, but the premise does not confirm or deny this assumption.'),\n",
       " (89,\n",
       "  \"The premise states that Ava thinks that Thomas thinks something, but the hypothesis only states that Thomas thinks something. There is no guarantee that Thomas's thoughts align with Ava's assumptions about his thoughts.\"),\n",
       " (90,\n",
       "  \"The premise states that Olivia assumes that the dogs are standing near each other, while the hypothesis only states that Isabella believes that the dogs are standing near each other. There is a possibility that Isabella's belief may not align with Olivia's assumptions.\"),\n",
       " (91,\n",
       "  \"The premise states that Joseph assumes Sophia remembers something, but the hypothesis only states that Sophia remembers the same thing. There is no additional information in the hypothesis that would suggest that Sophia's memory is based on Joseph's assumption.\"),\n",
       " (93,\n",
       "  'The premise and hypothesis are both statements about the same situation, and there is no additional information in the hypothesis that is not already present in the premise. Therefore, there is no entailment between the two.'),\n",
       " (97,\n",
       "  'The premise states that Taylor suspects that John assumes something, but the hypothesis simply states that John assumes the same thing without providing any new information.'),\n",
       " (99,\n",
       "  \"The premise and hypothesis are both statements about Joseph's beliefs, but they do not provide any new information or evidence that would lead to a conclusion about the man in the blue apron and long rubber boots.\")]"
      ]
     },
     "execution_count": 47,
     "metadata": {},
     "output_type": "execute_result"
    }
   ],
   "source": [
    "hints_wrong"
   ]
  }
 ],
 "metadata": {
  "kernelspec": {
   "display_name": "my_env",
   "language": "python",
   "name": "my_env"
  },
  "language_info": {
   "codemirror_mode": {
    "name": "ipython",
    "version": 3
   },
   "file_extension": ".py",
   "mimetype": "text/x-python",
   "name": "python",
   "nbconvert_exporter": "python",
   "pygments_lexer": "ipython3",
   "version": "3.11.4"
  }
 },
 "nbformat": 4,
 "nbformat_minor": 4
}
