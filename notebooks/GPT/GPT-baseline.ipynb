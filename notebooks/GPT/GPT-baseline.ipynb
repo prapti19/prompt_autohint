{
 "cells": [
  {
   "cell_type": "markdown",
   "metadata": {},
   "source": [
    "# GPT: Baseline Reproduction"
   ]
  },
  {
   "cell_type": "code",
   "execution_count": null,
   "metadata": {},
   "outputs": [],
   "source": [
    "import json\n",
    "import random\n",
    "import re\n",
    "import os\n",
    "import numpy as np\n",
    "import time\n",
    "import copy"
   ]
  },
  {
   "cell_type": "code",
   "execution_count": 1,
   "metadata": {},
   "outputs": [],
   "source": [
    "# setup\n",
    "!export HF_DATASETS_CACHE=\"/scratch/tg2520/cache/\""
   ]
  },
  {
   "cell_type": "code",
   "execution_count": 2,
   "metadata": {},
   "outputs": [],
   "source": [
    "os.environ['TRANSFORMERS_CACHE'] = '/scratch/tg2520/cache/'\n",
    "LLM = \"gpt\""
   ]
  },
  {
   "cell_type": "markdown",
   "metadata": {},
   "source": [
    "### Data Preprocessing "
   ]
  },
  {
   "cell_type": "code",
   "execution_count": 4,
   "metadata": {},
   "outputs": [],
   "source": [
    "file_path = \"/scratch/tg2520/my_env/LLVM/automatic_prompt_engineer/data/bigbench-ii/epistemic_reasoning/task.json\"\n",
    "with open(file_path, 'r') as json_file:\n",
    "    data_orig = json.load(json_file)"
   ]
  },
  {
   "cell_type": "code",
   "execution_count": 5,
   "metadata": {},
   "outputs": [],
   "source": [
    "data=data_orig['examples']"
   ]
  },
  {
   "cell_type": "code",
   "execution_count": 7,
   "metadata": {},
   "outputs": [],
   "source": [
    "# random.shuffle(data)\n",
    "\n",
    "# # Define the proportions for train, test, and validation sets\n",
    "# total_samples = len(data)\n",
    "# train_ratio = 0.7\n",
    "# test_ratio = 0.15\n",
    "# validation_ratio = 0.15\n",
    "\n",
    "# # Calculate the sizes of each set\n",
    "# train_size = int(total_samples * train_ratio)\n",
    "# test_size = int(total_samples * test_ratio)\n",
    "# validation_size = int(total_samples * validation_ratio)\n",
    "\n",
    "# # Split the data into sets\n",
    "# train_data = data[:train_size]\n",
    "# test_data = data[train_size:train_size + test_size]\n",
    "# validation_data = data[train_size + test_size:]"
   ]
  },
  {
   "cell_type": "code",
   "execution_count": 8,
   "metadata": {},
   "outputs": [],
   "source": [
    "import json\n",
    "\n",
    "# Read data from train.json\n",
    "with open('train_entail.json', 'r') as train_file:\n",
    "    train_data = json.load(train_file)\n",
    "# Read data from test.json\n",
    "with open('test_entail.json', 'r') as test_file:\n",
    "    test_data = json.load(test_file)\n",
    "with open('val_entail.json', 'r') as val_file:\n",
    "    validation_data=json.load(val_file)"
   ]
  },
  {
   "cell_type": "code",
   "execution_count": 9,
   "metadata": {},
   "outputs": [
    {
     "name": "stdout",
     "output_type": "stream",
     "text": [
      "Training data size: 1400\n"
     ]
    }
   ],
   "source": [
    "print(f\"Training data size: {len(train_data)}\")"
   ]
  },
  {
   "cell_type": "code",
   "execution_count": 13,
   "metadata": {},
   "outputs": [
    {
     "name": "stdout",
     "output_type": "stream",
     "text": [
      "158\n",
      "242\n"
     ]
    }
   ],
   "source": [
    "# Number of positive and negative samples\n",
    "pos_train = [i for i in range(len(train_data)) if train_data[i]['target_scores']['entailment'] == 1]\n",
    "neg_train = [i for i in range(len(train_data)) if train_data[i]['target_scores']['non-entailment'] == 1]\n",
    "\n",
    "print(len(pos_train))\n",
    "print(len(neg_train))"
   ]
  },
  {
   "cell_type": "markdown",
   "metadata": {},
   "source": [
    "### Algorithm setup"
   ]
  },
  {
   "cell_type": "code",
   "execution_count": 14,
   "metadata": {},
   "outputs": [
    {
     "name": "stdout",
     "output_type": "stream",
     "text": [
      "Determine whether one sentence entails the next\n"
     ]
    }
   ],
   "source": [
    "task_description=data_orig['description']\n",
    "print(task_description)\n",
    "\n",
    "task_type='entailment'\n",
    "\n",
    "task_prefix=data_orig['task_prefix']\n",
    "if task_type=='hyperbaton':\n",
    "    task_prefix=task_prefix.strip()\n",
    "    task_prefix+=\" Choose only from the following options: 'a' or 'b'.\\n\""
   ]
  },
  {
   "cell_type": "markdown",
   "metadata": {},
   "source": [
    "### Helper functions"
   ]
  },
  {
   "cell_type": "code",
   "execution_count": 16,
   "metadata": {},
   "outputs": [],
   "source": [
    "### GPT API CALL\n",
    "# GPT3.5 : gpt-3.5-turbo\n",
    "# GPT4: gpt-4-0613\n",
    "\n",
    "from openai import OpenAI\n",
    "client = OpenAI(api_key = \"API_KEY\")\n",
    "\n",
    "def get_openai_api(inp, temp=0,topP=1):\n",
    "\n",
    "    completion = client.chat.completions.create(\n",
    "        model=\"gpt-3.5-turbo\",\n",
    "        messages=[\n",
    "            {\"role\": \"system\", \"content\": \"You are a helpful assistant.\"},\n",
    "            {\"role\": \"user\", \"content\": inp}\n",
    "        ],\n",
    "        temperature = temp,\n",
    "        top_p = topP\n",
    "    )\n",
    "\n",
    "    return completion.choices[0].message.content\n",
    "    "
   ]
  },
  {
   "cell_type": "code",
   "execution_count": 17,
   "metadata": {},
   "outputs": [],
   "source": [
    "def get_answer_llm(user_prompt,use_api=True,temp=0,topP=1):\n",
    "    sys_prompt=\"You are a helpful, respectful and honest assistant. Always answer as helpfully as possible, while being safe. Your answers should not include any harmful, unethical, racist, sexist, toxic, dangerous, or illegal content. Please ensure that your responses are socially unbiased and positive in nature.If a question does not make any sense, or is not factually coherent, explain why instead of answering something not correct. If you don't know the answer to a question, please don't share false information.\"\n",
    "    prompt = \"\"\n",
    "    if LLM == 'llama':\n",
    "        prompt=f\"<s>[INST] {user_prompt} [/INST]\"\n",
    "        \n",
    "        if use_api==False:\n",
    "            model_inputs = tokenizer(prompt, return_tensors=\"pt\").to(\"cuda\")\n",
    "            output = model.generate(**model_inputs)\n",
    "            return tokenizer.decode(output[0], skip_special_tokens=True)\n",
    "        else:\n",
    "\n",
    "            try:\n",
    "                return get_api(prompt,is_summary)[0]['generated_text']\n",
    "            except:\n",
    "                return \"\"\n",
    "    elif LLM == 'gpt':\n",
    "        prompt = user_prompt\n",
    "        return get_openai_api(prompt)\n",
    "#"
   ]
  },
  {
   "cell_type": "code",
   "execution_count": 18,
   "metadata": {},
   "outputs": [],
   "source": [
    "def extract_answer(length,line,task_type='entailment'):\n",
    "    line=line[length:]\n",
    "    pattern = r'<Ans>(.*?)</Ans>|Ans:\\s*([\\w-]+)'\n",
    "    matches = re.findall(pattern, line)\n",
    "    if len(matches)==0:  # If no match\n",
    "        return -1\n",
    "    \n",
    "    matches=matches[0][0]\n",
    "    if task_type=='entailment':\n",
    "        if matches =='entailment' or matches=='Entailment':\n",
    "            return 1\n",
    "    elif task_type=='hyperbaton':\n",
    "        if matches[0][0]=='a' or matches[0][0]=='A':\n",
    "            return 1\n",
    "    elif task_type == 'implicatures':\n",
    "         if matches[0][0]=='yes' or matches[0][0]=='Yes':\n",
    "            return 1\n",
    "    return 0"
   ]
  },
  {
   "cell_type": "code",
   "execution_count": 19,
   "metadata": {},
   "outputs": [],
   "source": [
    "def extract_hint(length,line):\n",
    "    line=line[length:]\n",
    "    pattern = r'<hint>(.*?)</hint>'\n",
    "    matches = re.findall(pattern, line)\n",
    "    if len(matches)==0:\n",
    "        return \"\"\n",
    "    return matches[0]"
   ]
  },
  {
   "cell_type": "code",
   "execution_count": 20,
   "metadata": {},
   "outputs": [],
   "source": [
    "def extract_confidence(length,line):\n",
    "    line=line[length:]\n",
    "    pattern = r'<conf>(.*?)</conf>'\n",
    "    matches = re.findall(pattern, line)\n",
    "    if len(matches)==0:\n",
    "        return \"\"\n",
    "    return matches[0]"
   ]
  },
  {
   "cell_type": "markdown",
   "metadata": {},
   "source": [
    "### Algorithm Steps"
   ]
  },
  {
   "cell_type": "code",
   "execution_count": 21,
   "metadata": {},
   "outputs": [],
   "source": [
    "# initial prompt\n",
    "prompt_t=task_description+'\\n'+'Given input: '+'<INPUT>'+'\\n'+task_prefix+'Put your one-word answer choosing from the previously stated two options within tag <Ans> and </Ans>. The one word answer should be necassarily between the tags. Also provide the confidence score for the answer within tag <conf> and </conf>'\n"
   ]
  },
  {
   "cell_type": "markdown",
   "metadata": {},
   "source": [
    "##### Step 1: Get inferences for the entire dataset (y_hat <- {xi,yi})"
   ]
  },
  {
   "cell_type": "code",
   "execution_count": 22,
   "metadata": {},
   "outputs": [],
   "source": [
    "def run_inference_step1(prompt_t,use_api=True,task_type='entailment'):\n",
    "    wrong_ans_indices=[] #wrong samples\n",
    "    correct_ans_indices=[] #correct samples\n",
    "    positive_class=[] #entailment class\n",
    "    negative_class=[] #non-entailment class\n",
    "    not_got=[]\n",
    "    conf = []\n",
    "    temp_prompt_t=prompt_t\n",
    "    for i in range(len(train_data)):        \n",
    "        prompt_t=temp_prompt_t.replace('<INPUT>',train_data[i]['input'])\n",
    "        op=get_answer_llm(prompt_t,use_api)\n",
    "        if op=='':\n",
    "            not_got.append(i)\n",
    "            continue\n",
    "        output_str=op\n",
    "        \n",
    "        ans=extract_answer(len(prompt_t) if LLM==\"llama\" else 0,output_str,task_type)\n",
    "        conf.append(extract_confidence(len(prompt_t) if LLM==\"llama\" else 0,output_str))\n",
    "        if ans==-1:\n",
    "            not_got.append(i)\n",
    "            continue\n",
    "        ground_truth=1\n",
    "      \n",
    "        if task_type=='entailment':\n",
    "            if train_data[i]['target_scores']['non-entailment']==1:\n",
    "                ground_truth=0\n",
    "        elif task_type=='hyperbaton':\n",
    "            if train_data[i]['target_scores']['b']==1:\n",
    "                ground_truth=0\n",
    "        elif task_type=='implicatures':\n",
    "            if train_data[i]['target_scores']['no']==1.0:\n",
    "                ground_truth=0\n",
    "                \n",
    "        # Sampling        \n",
    "        if (ans!=ground_truth):\n",
    "            wrong_ans_indices.append(i)\n",
    "        else:\n",
    "            correct_ans_indices.append(i)\n",
    "        \n",
    "        if ground_truth==1:\n",
    "            positive_class.append(i)\n",
    "        else:\n",
    "            negative_class.append(i)\n",
    "    \n",
    "    return wrong_ans_indices,correct_ans_indices, positive_class,negative_class,not_got\n",
    "    "
   ]
  },
  {
   "cell_type": "markdown",
   "metadata": {},
   "source": [
    "##### Step 2: Sampling (Done before summarization in the original paper, but we are doing this before generating hints)"
   ]
  },
  {
   "cell_type": "code",
   "execution_count": 23,
   "metadata": {},
   "outputs": [],
   "source": [
    "def random_sampling(wrong_answers,k=3):\n",
    "    selected=random.sample(wrong_answers, k)\n",
    "    return selected"
   ]
  },
  {
   "cell_type": "code",
   "execution_count": 25,
   "metadata": {},
   "outputs": [],
   "source": [
    "def random_balanced_sampling(wrong_answers,right_answers,pos,neg,k=3):\n",
    "    #sample from wrong ans\n",
    "    wrong_pos_indices = [i for i in wrong_answers if i in pos]\n",
    "    wrong_neg_indices = [i for i in wrong_answers if i in neg]\n",
    "\n",
    "    random_sample_pos = random.sample(wrong_pos_indices, k if len(wrong_pos_indices)>=k else len(wrong_pos_indices))\n",
    "    random_sample_neg = random.sample(wrong_neg_indices, k if len(wrong_neg_indices)>=k else len(wrong_neg_indices))\n",
    "    \n",
    "    if len(random_sample_pos) < k:\n",
    "        random_sample_pos += random.sample(pos_train, k - len(random_sample_pos))\n",
    "    \n",
    "    if len(random_sample_neg) < k:\n",
    "        random_sample_neg.append += random.sample(neg_train, k - len(random_sample_neg))\n",
    "        \n",
    "    print(f\"random_sample_pos(Wrong ans) : {len(random_sample_pos)}\")\n",
    "    print(f\"random_sample_neg(Wrong ans) : {len(random_sample_neg)}\")\n",
    "    return random_sample_pos + random_sample_neg"
   ]
  },
  {
   "cell_type": "markdown",
   "metadata": {},
   "source": [
    "##### Step 3: Extract hints from the samples  ( temperature as 0.1 and topP as 0.95 )"
   ]
  },
  {
   "cell_type": "code",
   "execution_count": 27,
   "metadata": {},
   "outputs": [],
   "source": [
    "def get_hints_residual_step2(answers,use_api=True):\n",
    "    hints={}\n",
    "\n",
    "    for idx in answers:\n",
    "        if task_type=='entailment':\n",
    "            if train_data[idx]['target_scores']['entailment']==1:\n",
    "                ans='entailment'\n",
    "            else:\n",
    "                ans='non-entailment'\n",
    "        if task_type=='implicatures':\n",
    "            if train_data[idx]['target_scores']['yes']==1.0:\n",
    "                ans='yes'\n",
    "            else:\n",
    "                ans='no'\n",
    "        prompt_h='Given following task:'+task_description+'\\n'+'Given input: '+train_data[idx]['input']+'\\n'+'And its expected output: '+ans+'\\n'+'List the reason or hint why its with this expected output within tag <hint> and </hint>. The hint or explaination should be necassarily between the tags.'\n",
    "       \n",
    "        op=get_answer_llm(prompt_h,use_api, temp=0.1,topP=0.95)\n",
    "        hint=extract_hint(len(prompt_h) if LLM==\"llama\" else 0,op)\n",
    "        \n",
    "        if idx%1000==0:\n",
    "            print(op,len(op))\n",
    "\n",
    "       \n",
    "        if hint!='':\n",
    "            hints[idx]=hint\n",
    "        \n",
    "    return hints"
   ]
  },
  {
   "cell_type": "markdown",
   "metadata": {},
   "source": [
    "##### Step 4: Summarize the hints"
   ]
  },
  {
   "cell_type": "code",
   "execution_count": 29,
   "metadata": {},
   "outputs": [],
   "source": [
    "def get_summarise_step4(hints,use_api=True,):\n",
    "    prompt_s=\"This is a task to \"+task_description+\". We have some expected input and output pairs and have asked labeler to give reason or hint for each expected output. Given following data each contains input, output and reason for the expected output, summarize a general reason for all these cases:\"+'\\n'\n",
    "    temp_str=''\n",
    "    ctr=1\n",
    "    for idx in hints:\n",
    "        temp=''\n",
    "        if task_type=='entailment':\n",
    "            if train_data[idx]['target_scores']['entailment']==1:\n",
    "                ans='entailment'\n",
    "            else:\n",
    "                ans='non-entailment'\n",
    "        if task_type=='implicatures':\n",
    "            if train_data[idx]['target_scores']['yes']==1.0:\n",
    "                ans='yes'\n",
    "            else:\n",
    "                ans='no'\n",
    "                \n",
    "        temp+='Given input: '+train_data[idx]['input']+'\\n'+'And its expected output: '+ans+'. And the reason for the expected output: '+hints[idx]+'\\n'\n",
    "        temp_str+=temp+'\\n'\n",
    "            \n",
    "    prompt_s+=temp_str+'\\n'+\"Give a summary of the reasons for the example output, and do not give a reason particular to the respective example. Also do not mention the number of examples nor give any reference to entities in examples in the summary directly or indirectly. Be as general as possible. The summarised reasons are:\"\n",
    "\n",
    "    op=get_answer_llm(prompt_s,use_api)#[l+8+7:]#or extract after [/INSTR]\n",
    "    return op.lstrip()"
   ]
  },
  {
   "cell_type": "markdown",
   "metadata": {},
   "source": [
    "#### Algorithm Run"
   ]
  },
  {
   "cell_type": "code",
   "execution_count": 30,
   "metadata": {},
   "outputs": [],
   "source": [
    "#initial prompt\n",
    "prompt_t=task_description+'\\n'+'Given input: '+'<INPUT>'+'\\n'+task_prefix+'Put your one-word answer choosing from the previously stated two options within tag <Ans> and </Ans>. The one word answer should be necassarily between the tags. Also provide the confidence score for the answer within tag <conf> and </conf>'"
   ]
  },
  {
   "cell_type": "code",
   "execution_count": 1,
   "metadata": {},
   "outputs": [],
   "source": [
    "num_iterations_T=10\n",
    "succesive_prompts=[]\n",
    "start=time.time()\n",
    "file_path = \"results.txt\"\n",
    "\n",
    "start = time.time()\n",
    "for t in range(num_iterations_T):\n",
    "    # Step 1: Inference\n",
    "    wrong_answers,right_answers,pos,neg,ng=run_inference_step1(prompt_t,task_type)\n",
    "    \n",
    "    # Step 2: Sampling\n",
    "    samples = random_balanced_sampling(wrong_answers,right_answers,pos,neg)\n",
    "    \n",
    "    # Step 3: Generate Hints\n",
    "    hints=get_hints_residual_step2(samples)\n",
    "    \n",
    "    # Step 4: Summarize Hints\n",
    "    summarised_prompt=get_summarise_step4(hints)\n",
    "    \n",
    "    final_prompt=task_description+\"\\n\"+'Some useful hints are: '+summarised_prompt+'\\n'+'Given input: '+'<INPUT>'+'\\n'+task_prefix+'Put your one-word answer choosing from the previously stated two options within tag <Ans> and </Ans>. The one word answer should be necassarily between the tags.'\n",
    "    succesive_prompts.append(final_prompt)\n",
    "    prompt_t=final_prompt\n",
    "    \n",
    "    with open(file_path, \"a\") as file:\n",
    "    # Write the string to the file\n",
    "        file.write(f\"Iteration {str(t)} \\n {prompt_t} \\n\\n Wrong Ans: {len(wrong_answers)} \\n Correct Ans: {len(right_answers)} \\n Not got: {len(ng)} \\n Total time : {time.time()-start} \\n------\\n\\n \")\n",
    "\n",
    "end = time.time()\n",
    "print(\"Time taken\",end-start)"
   ]
  },
  {
   "cell_type": "markdown",
   "metadata": {},
   "source": [
    "#### Test "
   ]
  },
  {
   "cell_type": "code",
   "execution_count": 33,
   "metadata": {},
   "outputs": [],
   "source": [
    "def test_out(final_prompt_totest,use_api=True):\n",
    "    wrong_ans_indices=[]\n",
    "    not_got=[]\n",
    "    correct_ans_indices=[]\n",
    "    \n",
    "    for i in range(len(test_data)):\n",
    "        prompt_t=final_prompt_totest.replace('<INPUT>',test_data[i]['input'])\n",
    "        op=get_answer_llm(prompt_t,use_api)\n",
    "        if op=='':\n",
    "            not_got.append(i)\n",
    "            continue\n",
    "        output_str=op\n",
    "        ans=extract_answer(len(prompt_t) if LLM==\"llama\" else 0,output_str,task_type)\n",
    "        if ans==-1:\n",
    "            not_got.append(i)\n",
    "            continue\n",
    "        ground_truth=1\n",
    "      \n",
    "        if task_type=='entailment':\n",
    "            if test_data[i]['target_scores']['non-entailment']==1:\n",
    "                ground_truth=0\n",
    "        elif task_type=='hyperbaton':\n",
    "            if test_data[i]['target_scores']['b']==1:\n",
    "                ground_truth=0\n",
    "        elif task_type=='implicatures':\n",
    "            if test_data[i]['target_scores'][\"no\"]==1.0:\n",
    "                ground_truth=0\n",
    "                \n",
    "        if (ans!=ground_truth):\n",
    "            wrong_ans_indices.append(i)\n",
    "        else:\n",
    "            correct_ans_indices.append(i)\n",
    "    return wrong_ans_indices,not_got, correct_ans_indices"
   ]
  },
  {
   "cell_type": "code",
   "execution_count": null,
   "metadata": {},
   "outputs": [],
   "source": [
    "# succesive_prompts[-1]"
   ]
  },
  {
   "cell_type": "code",
   "execution_count": null,
   "metadata": {},
   "outputs": [],
   "source": [
    "prompt_t=task_description+'\\n'+'Given input: '+'<INPUT>'+'\\n'+task_prefix+'Put your one-word answer choosing from the previously stated two options within tag <Ans> and </Ans>. The one word answer should be necassarily between the tags.'\n",
    "prompt_t"
   ]
  },
  {
   "cell_type": "code",
   "execution_count": null,
   "metadata": {},
   "outputs": [],
   "source": [
    "paper_prompt = \"Determine whether one sentence entails the next\\nSome useful hints are:\\n-Entailment occurs when the hypothesis is a logical consequence of the premise, or when the premise guarantees the truth of the hypothesis, regardless of the level of specificity or simplification of the terms Involved.\\n-Non-entailment occurs when the premise does iet guarantee the truth of the hypothesis, or when there is a possibility that the hypothesis is false or unknown, especially when the premise involves beliefs or thoughts of other people.\\nGiven input: <INPUT>\\nIdentify the relation between the following premises and hypotheses, choosing from the options 'entailment' or 'non-entailment'.\\nPut your one-word answer choosing from the previously stated two options within tag <Ans> and </Ans>. The one word answer should be necassarily between the tags.\""
   ]
  },
  {
   "cell_type": "code",
   "execution_count": 38,
   "metadata": {},
   "outputs": [
    {
     "name": "stdout",
     "output_type": "stream",
     "text": [
      "147.88107562065125\n"
     ]
    }
   ],
   "source": [
    "start = time.time()\n",
    "wrong_ans_indices_test,not_got_test,correct_ans_indices=test_out(last_prompt)\n",
    "print(time.time()-start)"
   ]
  },
  {
   "cell_type": "markdown",
   "metadata": {},
   "source": [
    "##### Accuracy"
   ]
  },
  {
   "cell_type": "code",
   "execution_count": 44,
   "metadata": {},
   "outputs": [
    {
     "data": {
      "text/plain": [
       "0.48"
      ]
     },
     "execution_count": 44,
     "metadata": {},
     "output_type": "execute_result"
    }
   ],
   "source": [
    "accuracy = len(correct_ans_indices)/len(test_data)\n",
    "accuracy"
   ]
  },
  {
   "cell_type": "markdown",
   "metadata": {},
   "source": [
    "##### Balanced Accuracy"
   ]
  },
  {
   "cell_type": "code",
   "execution_count": 45,
   "metadata": {},
   "outputs": [
    {
     "name": "stdout",
     "output_type": "stream",
     "text": [
      "127\n",
      "173\n"
     ]
    }
   ],
   "source": [
    "pos_test = [i for i in range(len(test_data)) if test_data[i]['target_scores']['entailment'] == 1]\n",
    "neg_test = [i for i in range(len(test_data)) if test_data[i]['target_scores']['non-entailment'] == 1]\n",
    "\n",
    "print(len(pos_test))\n",
    "print(len(neg_test))"
   ]
  },
  {
   "cell_type": "code",
   "execution_count": 46,
   "metadata": {},
   "outputs": [],
   "source": [
    "y_test = [0] * 300\n",
    "for i in pos_test:\n",
    "    y_test[i] = 1\n",
    "\n",
    "y_pred = copy.deepcopy(y_test)\n",
    "for i in wrong_ans_indices_test:\n",
    "    if y_pred[i] == 1:\n",
    "        y_pred[i] = 0\n",
    "    else:\n",
    "        y_pred[i] = 1"
   ]
  },
  {
   "cell_type": "code",
   "execution_count": 52,
   "metadata": {},
   "outputs": [
    {
     "data": {
      "text/plain": [
       "0.527149424241045"
      ]
     },
     "execution_count": 52,
     "metadata": {},
     "output_type": "execute_result"
    }
   ],
   "source": [
    "from sklearn.metrics import balanced_accuracy_score\n",
    "balanced_accuracy_score(y_test, y_pred)"
   ]
  }
 ],
 "metadata": {
  "kernelspec": {
   "display_name": "my_env",
   "language": "python",
   "name": "my_env"
  },
  "language_info": {
   "codemirror_mode": {
    "name": "ipython",
    "version": 3
   },
   "file_extension": ".py",
   "mimetype": "text/x-python",
   "name": "python",
   "nbconvert_exporter": "python",
   "pygments_lexer": "ipython3",
   "version": "3.11.4"
  }
 },
 "nbformat": 4,
 "nbformat_minor": 4
}
